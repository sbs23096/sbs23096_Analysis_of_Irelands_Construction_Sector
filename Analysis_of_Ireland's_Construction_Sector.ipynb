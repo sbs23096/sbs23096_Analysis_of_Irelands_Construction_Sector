{
  "cells": [
    {
      "cell_type": "markdown",
      "metadata": {
        "id": "view-in-github",
        "colab_type": "text"
      },
      "source": [
        "<a href=\"https://colab.research.google.com/github/sbs23096/sbs23096_Analysis_of_Irelands_Construction_Sector/blob/main/Analysis_of_Ireland's_Construction_Sector.ipynb\" target=\"_parent\"><img src=\"https://colab.research.google.com/assets/colab-badge.svg\" alt=\"Open In Colab\"/></a>"
      ]
    },
    {
      "cell_type": "code",
      "execution_count": null,
      "metadata": {
        "id": "7ERisMD3mpbd"
      },
      "outputs": [],
      "source": [
        "import pandas as pd\n",
        "import numpy as np\n",
        "import matplotlib.pyplot as plt\n",
        "import seaborn as sns"
      ]
    },
    {
      "cell_type": "markdown",
      "metadata": {
        "id": "Sc2pyLPm443u"
      },
      "source": [
        "### Concatenate the data"
      ]
    },
    {
      "cell_type": "code",
      "source": [
        "df_1=pd.read_csv(\"https://opendata.housing.gov.ie/dataset/f804e6ae-cd1d-4eed-bd59-e454c1dd4e58/resource/4e1f63c4-f4ba-43f3-8db6-636b76a146d4/download/social_housing_construction_status_report_q2_2020.csv\")\n",
        "df_2 = pd.read_csv(\"https://opendata.housing.gov.ie/dataset/d9e58b11-8ee5-45cb-b4d8-cf0add63f2e9/resource/bb62b38b-0025-462b-8335-922e0f5e3322/download/social_housing_construction_status_report_q3_2020.csv\")\n",
        "df_3 = pd.read_csv(\"https://opendata.housing.gov.ie/dataset/d3fb01d5-df2e-4f5f-b968-e6b1febb047f/resource/7527707b-8378-423c-8323-ec8710eca505/download/social_housing_construction_status_report_q4_2020.csv\")\n",
        "df_4 = pd.read_json(\"https://opendata.housing.gov.ie/dataset/cdbb216a-989c-44e1-b6d0-716f18ac27a9/resource/baf9bc22-cecf-4596-9400-699d79b233b2/download/social_housing_construction_status_report_q1_2021.json\")"
      ],
      "metadata": {
        "id": "X7Q19Nsy5fSf"
      },
      "execution_count": null,
      "outputs": []
    },
    {
      "cell_type": "code",
      "execution_count": null,
      "metadata": {
        "id": "5Rw0EEYuC9l8"
      },
      "outputs": [],
      "source": [
        "final_data = pd.concat([df_1,df_2,df_3,df_4],ignore_index=True)"
      ]
    },
    {
      "cell_type": "code",
      "execution_count": null,
      "metadata": {
        "colab": {
          "base_uri": "https://localhost:8080/",
          "height": 458
        },
        "id": "zH23u9mNDAJp",
        "outputId": "3cc37595-be7e-48e7-f308-e34fd4367475"
      },
      "outputs": [
        {
          "output_type": "execute_result",
          "data": {
            "text/plain": [
              "    No          Funding Programme      LA               Scheme/Project Name  \\\n",
              "0  1.0  SHIP CONSTRUCTION TURNKEY  Carlow  Carrigbrook, Tullow Road, Carlow   \n",
              "1  2.0  SHIP CONSTRUCTION TURNKEY  Carlow  Carrigbrook, Tullow Road, Carlow   \n",
              "2  3.0  SHIP CONSTRUCTION TURNKEY  Carlow  Carrigbrook, Tullow Road, Carlow   \n",
              "3  4.0  SHIP CONSTRUCTION TURNKEY  Carlow  Carrigbrook, Tullow Road, Carlow   \n",
              "4  5.0  SHIP CONSTRUCTION TURNKEY  Carlow  Carrigbrook, Tullow Road, Carlow   \n",
              "\n",
              "   No_ of Units Approved Housing Body Stage 1 Capital Appraisal  \\\n",
              "0             6                  *N/A                       NaN   \n",
              "1             6                  *N/A                       NaN   \n",
              "2             8                  *N/A                       NaN   \n",
              "3            12                  *N/A                       NaN   \n",
              "4            12                  *N/A                       NaN   \n",
              "\n",
              "  Stage 2 Pre Planning Stage 3 Pre Tender design  \\\n",
              "0                  NaN                       NaN   \n",
              "1                  NaN                       NaN   \n",
              "2                  NaN                       NaN   \n",
              "3                  NaN                       NaN   \n",
              "4                  NaN                       NaN   \n",
              "\n",
              "  Stage 4 Tender Report or Final Turnkey/CALF approval  On Site Completed  No_  \n",
              "0                                                NaN        NaN   Q3-2019  NaN  \n",
              "1                                                NaN        NaN   Q3-2019  NaN  \n",
              "2                                                NaN    Q4-2017       NaN  NaN  \n",
              "3                                                NaN    Q4-2017       NaN  NaN  \n",
              "4                                                NaN    Q4-2017       NaN  NaN  "
            ],
            "text/html": [
              "\n",
              "  <div id=\"df-5ada9294-998e-4034-9ffb-cddf497b4e8d\">\n",
              "    <div class=\"colab-df-container\">\n",
              "      <div>\n",
              "<style scoped>\n",
              "    .dataframe tbody tr th:only-of-type {\n",
              "        vertical-align: middle;\n",
              "    }\n",
              "\n",
              "    .dataframe tbody tr th {\n",
              "        vertical-align: top;\n",
              "    }\n",
              "\n",
              "    .dataframe thead th {\n",
              "        text-align: right;\n",
              "    }\n",
              "</style>\n",
              "<table border=\"1\" class=\"dataframe\">\n",
              "  <thead>\n",
              "    <tr style=\"text-align: right;\">\n",
              "      <th></th>\n",
              "      <th>No</th>\n",
              "      <th>Funding Programme</th>\n",
              "      <th>LA</th>\n",
              "      <th>Scheme/Project Name</th>\n",
              "      <th>No_ of Units</th>\n",
              "      <th>Approved Housing Body</th>\n",
              "      <th>Stage 1 Capital Appraisal</th>\n",
              "      <th>Stage 2 Pre Planning</th>\n",
              "      <th>Stage 3 Pre Tender design</th>\n",
              "      <th>Stage 4 Tender Report or Final Turnkey/CALF approval</th>\n",
              "      <th>On Site</th>\n",
              "      <th>Completed</th>\n",
              "      <th>No_</th>\n",
              "    </tr>\n",
              "  </thead>\n",
              "  <tbody>\n",
              "    <tr>\n",
              "      <th>0</th>\n",
              "      <td>1.0</td>\n",
              "      <td>SHIP CONSTRUCTION TURNKEY</td>\n",
              "      <td>Carlow</td>\n",
              "      <td>Carrigbrook, Tullow Road, Carlow</td>\n",
              "      <td>6</td>\n",
              "      <td>*N/A</td>\n",
              "      <td>NaN</td>\n",
              "      <td>NaN</td>\n",
              "      <td>NaN</td>\n",
              "      <td>NaN</td>\n",
              "      <td>NaN</td>\n",
              "      <td>Q3-2019</td>\n",
              "      <td>NaN</td>\n",
              "    </tr>\n",
              "    <tr>\n",
              "      <th>1</th>\n",
              "      <td>2.0</td>\n",
              "      <td>SHIP CONSTRUCTION TURNKEY</td>\n",
              "      <td>Carlow</td>\n",
              "      <td>Carrigbrook, Tullow Road, Carlow</td>\n",
              "      <td>6</td>\n",
              "      <td>*N/A</td>\n",
              "      <td>NaN</td>\n",
              "      <td>NaN</td>\n",
              "      <td>NaN</td>\n",
              "      <td>NaN</td>\n",
              "      <td>NaN</td>\n",
              "      <td>Q3-2019</td>\n",
              "      <td>NaN</td>\n",
              "    </tr>\n",
              "    <tr>\n",
              "      <th>2</th>\n",
              "      <td>3.0</td>\n",
              "      <td>SHIP CONSTRUCTION TURNKEY</td>\n",
              "      <td>Carlow</td>\n",
              "      <td>Carrigbrook, Tullow Road, Carlow</td>\n",
              "      <td>8</td>\n",
              "      <td>*N/A</td>\n",
              "      <td>NaN</td>\n",
              "      <td>NaN</td>\n",
              "      <td>NaN</td>\n",
              "      <td>NaN</td>\n",
              "      <td>Q4-2017</td>\n",
              "      <td>NaN</td>\n",
              "      <td>NaN</td>\n",
              "    </tr>\n",
              "    <tr>\n",
              "      <th>3</th>\n",
              "      <td>4.0</td>\n",
              "      <td>SHIP CONSTRUCTION TURNKEY</td>\n",
              "      <td>Carlow</td>\n",
              "      <td>Carrigbrook, Tullow Road, Carlow</td>\n",
              "      <td>12</td>\n",
              "      <td>*N/A</td>\n",
              "      <td>NaN</td>\n",
              "      <td>NaN</td>\n",
              "      <td>NaN</td>\n",
              "      <td>NaN</td>\n",
              "      <td>Q4-2017</td>\n",
              "      <td>NaN</td>\n",
              "      <td>NaN</td>\n",
              "    </tr>\n",
              "    <tr>\n",
              "      <th>4</th>\n",
              "      <td>5.0</td>\n",
              "      <td>SHIP CONSTRUCTION TURNKEY</td>\n",
              "      <td>Carlow</td>\n",
              "      <td>Carrigbrook, Tullow Road, Carlow</td>\n",
              "      <td>12</td>\n",
              "      <td>*N/A</td>\n",
              "      <td>NaN</td>\n",
              "      <td>NaN</td>\n",
              "      <td>NaN</td>\n",
              "      <td>NaN</td>\n",
              "      <td>Q4-2017</td>\n",
              "      <td>NaN</td>\n",
              "      <td>NaN</td>\n",
              "    </tr>\n",
              "  </tbody>\n",
              "</table>\n",
              "</div>\n",
              "      <button class=\"colab-df-convert\" onclick=\"convertToInteractive('df-5ada9294-998e-4034-9ffb-cddf497b4e8d')\"\n",
              "              title=\"Convert this dataframe to an interactive table.\"\n",
              "              style=\"display:none;\">\n",
              "        \n",
              "  <svg xmlns=\"http://www.w3.org/2000/svg\" height=\"24px\"viewBox=\"0 0 24 24\"\n",
              "       width=\"24px\">\n",
              "    <path d=\"M0 0h24v24H0V0z\" fill=\"none\"/>\n",
              "    <path d=\"M18.56 5.44l.94 2.06.94-2.06 2.06-.94-2.06-.94-.94-2.06-.94 2.06-2.06.94zm-11 1L8.5 8.5l.94-2.06 2.06-.94-2.06-.94L8.5 2.5l-.94 2.06-2.06.94zm10 10l.94 2.06.94-2.06 2.06-.94-2.06-.94-.94-2.06-.94 2.06-2.06.94z\"/><path d=\"M17.41 7.96l-1.37-1.37c-.4-.4-.92-.59-1.43-.59-.52 0-1.04.2-1.43.59L10.3 9.45l-7.72 7.72c-.78.78-.78 2.05 0 2.83L4 21.41c.39.39.9.59 1.41.59.51 0 1.02-.2 1.41-.59l7.78-7.78 2.81-2.81c.8-.78.8-2.07 0-2.86zM5.41 20L4 18.59l7.72-7.72 1.47 1.35L5.41 20z\"/>\n",
              "  </svg>\n",
              "      </button>\n",
              "      \n",
              "  <style>\n",
              "    .colab-df-container {\n",
              "      display:flex;\n",
              "      flex-wrap:wrap;\n",
              "      gap: 12px;\n",
              "    }\n",
              "\n",
              "    .colab-df-convert {\n",
              "      background-color: #E8F0FE;\n",
              "      border: none;\n",
              "      border-radius: 50%;\n",
              "      cursor: pointer;\n",
              "      display: none;\n",
              "      fill: #1967D2;\n",
              "      height: 32px;\n",
              "      padding: 0 0 0 0;\n",
              "      width: 32px;\n",
              "    }\n",
              "\n",
              "    .colab-df-convert:hover {\n",
              "      background-color: #E2EBFA;\n",
              "      box-shadow: 0px 1px 2px rgba(60, 64, 67, 0.3), 0px 1px 3px 1px rgba(60, 64, 67, 0.15);\n",
              "      fill: #174EA6;\n",
              "    }\n",
              "\n",
              "    [theme=dark] .colab-df-convert {\n",
              "      background-color: #3B4455;\n",
              "      fill: #D2E3FC;\n",
              "    }\n",
              "\n",
              "    [theme=dark] .colab-df-convert:hover {\n",
              "      background-color: #434B5C;\n",
              "      box-shadow: 0px 1px 3px 1px rgba(0, 0, 0, 0.15);\n",
              "      filter: drop-shadow(0px 1px 2px rgba(0, 0, 0, 0.3));\n",
              "      fill: #FFFFFF;\n",
              "    }\n",
              "  </style>\n",
              "\n",
              "      <script>\n",
              "        const buttonEl =\n",
              "          document.querySelector('#df-5ada9294-998e-4034-9ffb-cddf497b4e8d button.colab-df-convert');\n",
              "        buttonEl.style.display =\n",
              "          google.colab.kernel.accessAllowed ? 'block' : 'none';\n",
              "\n",
              "        async function convertToInteractive(key) {\n",
              "          const element = document.querySelector('#df-5ada9294-998e-4034-9ffb-cddf497b4e8d');\n",
              "          const dataTable =\n",
              "            await google.colab.kernel.invokeFunction('convertToInteractive',\n",
              "                                                     [key], {});\n",
              "          if (!dataTable) return;\n",
              "\n",
              "          const docLinkHtml = 'Like what you see? Visit the ' +\n",
              "            '<a target=\"_blank\" href=https://colab.research.google.com/notebooks/data_table.ipynb>data table notebook</a>'\n",
              "            + ' to learn more about interactive tables.';\n",
              "          element.innerHTML = '';\n",
              "          dataTable['output_type'] = 'display_data';\n",
              "          await google.colab.output.renderOutput(dataTable, element);\n",
              "          const docLink = document.createElement('div');\n",
              "          docLink.innerHTML = docLinkHtml;\n",
              "          element.appendChild(docLink);\n",
              "        }\n",
              "      </script>\n",
              "    </div>\n",
              "  </div>\n",
              "  "
            ]
          },
          "metadata": {},
          "execution_count": 25
        }
      ],
      "source": [
        "final_data.head() #shows the first five columns"
      ]
    },
    {
      "cell_type": "code",
      "execution_count": null,
      "metadata": {
        "colab": {
          "base_uri": "https://localhost:8080/"
        },
        "id": "tUgq7WXTDMst",
        "outputId": "d2708ed6-de8f-433d-8c3c-4dc051f3d281"
      },
      "outputs": [
        {
          "output_type": "execute_result",
          "data": {
            "text/plain": [
              "Index(['No', 'Funding Programme', 'LA', 'Scheme/Project Name', 'No_ of Units',\n",
              "       'Approved Housing Body', 'Stage 1 Capital Appraisal',\n",
              "       'Stage 2 Pre Planning', 'Stage 3 Pre Tender design',\n",
              "       'Stage 4 Tender Report or Final Turnkey/CALF approval', 'On Site',\n",
              "       'Completed', 'No_'],\n",
              "      dtype='object')"
            ]
          },
          "metadata": {},
          "execution_count": 26
        }
      ],
      "source": [
        "final_data.columns #display columns"
      ]
    },
    {
      "cell_type": "code",
      "execution_count": null,
      "metadata": {
        "colab": {
          "base_uri": "https://localhost:8080/"
        },
        "id": "YsSkII2QDQVW",
        "outputId": "16e14d71-7eb5-43dc-e0bd-ca7062c86d13"
      },
      "outputs": [
        {
          "output_type": "execute_result",
          "data": {
            "text/plain": [
              "(9254, 13)"
            ]
          },
          "metadata": {},
          "execution_count": 27
        }
      ],
      "source": [
        "final_data.shape #shape of data"
      ]
    },
    {
      "cell_type": "code",
      "execution_count": null,
      "metadata": {
        "colab": {
          "base_uri": "https://localhost:8080/"
        },
        "id": "KeC4KVfcDS9Y",
        "outputId": "eeb1feba-ed62-41a2-fbba-762d96306b57"
      },
      "outputs": [
        {
          "output_type": "execute_result",
          "data": {
            "text/plain": [
              "No                                                      7100\n",
              "Funding Programme                                          0\n",
              "LA                                                         0\n",
              "Scheme/Project Name                                        0\n",
              "No_ of Units                                               0\n",
              "Approved Housing Body                                      0\n",
              "Stage 1 Capital Appraisal                               6428\n",
              "Stage 2 Pre Planning                                    6469\n",
              "Stage 3 Pre Tender design                               6648\n",
              "Stage 4 Tender Report or Final Turnkey/CALF approval    6206\n",
              "On Site                                                 5319\n",
              "Completed                                               3030\n",
              "No_                                                     2154\n",
              "dtype: int64"
            ]
          },
          "metadata": {},
          "execution_count": 28
        }
      ],
      "source": [
        "final_data.isnull().sum() #remove the null values"
      ]
    },
    {
      "cell_type": "code",
      "execution_count": null,
      "metadata": {
        "id": "9YuBPmVNEZXp"
      },
      "outputs": [],
      "source": [
        "final_data.dropna(inplace=True)"
      ]
    },
    {
      "cell_type": "code",
      "execution_count": null,
      "metadata": {
        "colab": {
          "base_uri": "https://localhost:8080/"
        },
        "id": "XygtNbGwGW52",
        "outputId": "f334e8c8-98f7-4000-ae9d-89a9b377ce01"
      },
      "outputs": [
        {
          "output_type": "execute_result",
          "data": {
            "text/plain": [
              "Series([], Name: Scheme/Project Name, dtype: int64)"
            ]
          },
          "metadata": {},
          "execution_count": 30
        }
      ],
      "source": [
        "final_data[\"Scheme/Project Name\"].value_counts() #counts the max num of data"
      ]
    },
    {
      "cell_type": "code",
      "execution_count": null,
      "metadata": {
        "colab": {
          "base_uri": "https://localhost:8080/"
        },
        "id": "eWzevamnEl80",
        "outputId": "4d9494bf-37cd-4322-fc95-e94c33c376f9"
      },
      "outputs": [
        {
          "output_type": "execute_result",
          "data": {
            "text/plain": [
              "No                                                      0.0\n",
              "Funding Programme                                       0.0\n",
              "LA                                                      0.0\n",
              "Scheme/Project Name                                     0.0\n",
              "No_ of Units                                            0.0\n",
              "Approved Housing Body                                   0.0\n",
              "Stage 1 Capital Appraisal                               0.0\n",
              "Stage 2 Pre Planning                                    0.0\n",
              "Stage 3 Pre Tender design                               0.0\n",
              "Stage 4 Tender Report or Final Turnkey/CALF approval    0.0\n",
              "On Site                                                 0.0\n",
              "Completed                                               0.0\n",
              "No_                                                     0.0\n",
              "dtype: float64"
            ]
          },
          "metadata": {},
          "execution_count": 31
        }
      ],
      "source": [
        "final_data.isnull().sum()"
      ]
    },
    {
      "cell_type": "code",
      "execution_count": null,
      "metadata": {
        "colab": {
          "base_uri": "https://localhost:8080/"
        },
        "id": "oLGjosqSOWJC",
        "outputId": "9a24ba36-672d-42da-e974-6b29d1374b88"
      },
      "outputs": [
        {
          "output_type": "execute_result",
          "data": {
            "text/plain": [
              "Series([], Name: Completed, dtype: int64)"
            ]
          },
          "metadata": {},
          "execution_count": 32
        }
      ],
      "source": [
        "final_data[\"Completed\"].value_counts()"
      ]
    },
    {
      "cell_type": "code",
      "execution_count": null,
      "metadata": {
        "colab": {
          "base_uri": "https://localhost:8080/"
        },
        "id": "m4sbUvNcGy2l",
        "outputId": "eff0baad-cb0d-49e1-f672-a373250f33af"
      },
      "outputs": [
        {
          "output_type": "execute_result",
          "data": {
            "text/plain": [
              "Series([], Name: Approved Housing Body, dtype: int64)"
            ]
          },
          "metadata": {},
          "execution_count": 33
        }
      ],
      "source": [
        "final_data[\"Approved Housing Body\"].value_counts() #counts the Approved Housing Body"
      ]
    },
    {
      "cell_type": "code",
      "execution_count": null,
      "metadata": {
        "colab": {
          "base_uri": "https://localhost:8080/"
        },
        "id": "L-ZzME8NGmKu",
        "outputId": "b25e40a2-e76e-4b35-ad45-7663eaf5ef2e"
      },
      "outputs": [
        {
          "output_type": "execute_result",
          "data": {
            "text/plain": [
              "Series([], Name: No_ of Units, dtype: int64)"
            ]
          },
          "metadata": {},
          "execution_count": 34
        }
      ],
      "source": [
        "final_data[\"No_ of Units\"].value_counts() #counts the No_ of Units"
      ]
    },
    {
      "cell_type": "code",
      "execution_count": null,
      "metadata": {
        "colab": {
          "base_uri": "https://localhost:8080/"
        },
        "id": "GOzbaZPCGPIq",
        "outputId": "21d0cfe2-3f85-460f-d20b-314d5e0eae80"
      },
      "outputs": [
        {
          "output_type": "execute_result",
          "data": {
            "text/plain": [
              "Series([], Name: LA, dtype: int64)"
            ]
          },
          "metadata": {},
          "execution_count": 35
        }
      ],
      "source": [
        "final_data[\"LA\"].value_counts() #counts the LA values"
      ]
    },
    {
      "cell_type": "code",
      "execution_count": null,
      "metadata": {
        "colab": {
          "base_uri": "https://localhost:8080/"
        },
        "id": "D2P6v_x6Eo5x",
        "outputId": "031bad49-e81e-4c92-bfda-fa8702c6bce5"
      },
      "outputs": [
        {
          "output_type": "execute_result",
          "data": {
            "text/plain": [
              "Series([], Name: Funding Programme, dtype: int64)"
            ]
          },
          "metadata": {},
          "execution_count": 36
        }
      ],
      "source": [
        "final_data[\"Funding Programme\"].value_counts() #counts the funding programs"
      ]
    },
    {
      "cell_type": "markdown",
      "metadata": {
        "id": "75esbZz6G6JQ"
      },
      "source": [
        "### Descriptive Statistics"
      ]
    },
    {
      "cell_type": "code",
      "execution_count": null,
      "metadata": {
        "colab": {
          "base_uri": "https://localhost:8080/",
          "height": 300
        },
        "id": "ZAYV7IxMHIsP",
        "outputId": "8a112e90-41bc-4c0a-d7f5-7c48eed2e688"
      },
      "outputs": [
        {
          "output_type": "execute_result",
          "data": {
            "text/plain": [
              "        No  No_ of Units  No_\n",
              "count  0.0           0.0  0.0\n",
              "mean   NaN           NaN  NaN\n",
              "std    NaN           NaN  NaN\n",
              "min    NaN           NaN  NaN\n",
              "25%    NaN           NaN  NaN\n",
              "50%    NaN           NaN  NaN\n",
              "75%    NaN           NaN  NaN\n",
              "max    NaN           NaN  NaN"
            ],
            "text/html": [
              "\n",
              "  <div id=\"df-154ae0e5-eabf-4fed-bcfb-74f69723e111\">\n",
              "    <div class=\"colab-df-container\">\n",
              "      <div>\n",
              "<style scoped>\n",
              "    .dataframe tbody tr th:only-of-type {\n",
              "        vertical-align: middle;\n",
              "    }\n",
              "\n",
              "    .dataframe tbody tr th {\n",
              "        vertical-align: top;\n",
              "    }\n",
              "\n",
              "    .dataframe thead th {\n",
              "        text-align: right;\n",
              "    }\n",
              "</style>\n",
              "<table border=\"1\" class=\"dataframe\">\n",
              "  <thead>\n",
              "    <tr style=\"text-align: right;\">\n",
              "      <th></th>\n",
              "      <th>No</th>\n",
              "      <th>No_ of Units</th>\n",
              "      <th>No_</th>\n",
              "    </tr>\n",
              "  </thead>\n",
              "  <tbody>\n",
              "    <tr>\n",
              "      <th>count</th>\n",
              "      <td>0.0</td>\n",
              "      <td>0.0</td>\n",
              "      <td>0.0</td>\n",
              "    </tr>\n",
              "    <tr>\n",
              "      <th>mean</th>\n",
              "      <td>NaN</td>\n",
              "      <td>NaN</td>\n",
              "      <td>NaN</td>\n",
              "    </tr>\n",
              "    <tr>\n",
              "      <th>std</th>\n",
              "      <td>NaN</td>\n",
              "      <td>NaN</td>\n",
              "      <td>NaN</td>\n",
              "    </tr>\n",
              "    <tr>\n",
              "      <th>min</th>\n",
              "      <td>NaN</td>\n",
              "      <td>NaN</td>\n",
              "      <td>NaN</td>\n",
              "    </tr>\n",
              "    <tr>\n",
              "      <th>25%</th>\n",
              "      <td>NaN</td>\n",
              "      <td>NaN</td>\n",
              "      <td>NaN</td>\n",
              "    </tr>\n",
              "    <tr>\n",
              "      <th>50%</th>\n",
              "      <td>NaN</td>\n",
              "      <td>NaN</td>\n",
              "      <td>NaN</td>\n",
              "    </tr>\n",
              "    <tr>\n",
              "      <th>75%</th>\n",
              "      <td>NaN</td>\n",
              "      <td>NaN</td>\n",
              "      <td>NaN</td>\n",
              "    </tr>\n",
              "    <tr>\n",
              "      <th>max</th>\n",
              "      <td>NaN</td>\n",
              "      <td>NaN</td>\n",
              "      <td>NaN</td>\n",
              "    </tr>\n",
              "  </tbody>\n",
              "</table>\n",
              "</div>\n",
              "      <button class=\"colab-df-convert\" onclick=\"convertToInteractive('df-154ae0e5-eabf-4fed-bcfb-74f69723e111')\"\n",
              "              title=\"Convert this dataframe to an interactive table.\"\n",
              "              style=\"display:none;\">\n",
              "        \n",
              "  <svg xmlns=\"http://www.w3.org/2000/svg\" height=\"24px\"viewBox=\"0 0 24 24\"\n",
              "       width=\"24px\">\n",
              "    <path d=\"M0 0h24v24H0V0z\" fill=\"none\"/>\n",
              "    <path d=\"M18.56 5.44l.94 2.06.94-2.06 2.06-.94-2.06-.94-.94-2.06-.94 2.06-2.06.94zm-11 1L8.5 8.5l.94-2.06 2.06-.94-2.06-.94L8.5 2.5l-.94 2.06-2.06.94zm10 10l.94 2.06.94-2.06 2.06-.94-2.06-.94-.94-2.06-.94 2.06-2.06.94z\"/><path d=\"M17.41 7.96l-1.37-1.37c-.4-.4-.92-.59-1.43-.59-.52 0-1.04.2-1.43.59L10.3 9.45l-7.72 7.72c-.78.78-.78 2.05 0 2.83L4 21.41c.39.39.9.59 1.41.59.51 0 1.02-.2 1.41-.59l7.78-7.78 2.81-2.81c.8-.78.8-2.07 0-2.86zM5.41 20L4 18.59l7.72-7.72 1.47 1.35L5.41 20z\"/>\n",
              "  </svg>\n",
              "      </button>\n",
              "      \n",
              "  <style>\n",
              "    .colab-df-container {\n",
              "      display:flex;\n",
              "      flex-wrap:wrap;\n",
              "      gap: 12px;\n",
              "    }\n",
              "\n",
              "    .colab-df-convert {\n",
              "      background-color: #E8F0FE;\n",
              "      border: none;\n",
              "      border-radius: 50%;\n",
              "      cursor: pointer;\n",
              "      display: none;\n",
              "      fill: #1967D2;\n",
              "      height: 32px;\n",
              "      padding: 0 0 0 0;\n",
              "      width: 32px;\n",
              "    }\n",
              "\n",
              "    .colab-df-convert:hover {\n",
              "      background-color: #E2EBFA;\n",
              "      box-shadow: 0px 1px 2px rgba(60, 64, 67, 0.3), 0px 1px 3px 1px rgba(60, 64, 67, 0.15);\n",
              "      fill: #174EA6;\n",
              "    }\n",
              "\n",
              "    [theme=dark] .colab-df-convert {\n",
              "      background-color: #3B4455;\n",
              "      fill: #D2E3FC;\n",
              "    }\n",
              "\n",
              "    [theme=dark] .colab-df-convert:hover {\n",
              "      background-color: #434B5C;\n",
              "      box-shadow: 0px 1px 3px 1px rgba(0, 0, 0, 0.15);\n",
              "      filter: drop-shadow(0px 1px 2px rgba(0, 0, 0, 0.3));\n",
              "      fill: #FFFFFF;\n",
              "    }\n",
              "  </style>\n",
              "\n",
              "      <script>\n",
              "        const buttonEl =\n",
              "          document.querySelector('#df-154ae0e5-eabf-4fed-bcfb-74f69723e111 button.colab-df-convert');\n",
              "        buttonEl.style.display =\n",
              "          google.colab.kernel.accessAllowed ? 'block' : 'none';\n",
              "\n",
              "        async function convertToInteractive(key) {\n",
              "          const element = document.querySelector('#df-154ae0e5-eabf-4fed-bcfb-74f69723e111');\n",
              "          const dataTable =\n",
              "            await google.colab.kernel.invokeFunction('convertToInteractive',\n",
              "                                                     [key], {});\n",
              "          if (!dataTable) return;\n",
              "\n",
              "          const docLinkHtml = 'Like what you see? Visit the ' +\n",
              "            '<a target=\"_blank\" href=https://colab.research.google.com/notebooks/data_table.ipynb>data table notebook</a>'\n",
              "            + ' to learn more about interactive tables.';\n",
              "          element.innerHTML = '';\n",
              "          dataTable['output_type'] = 'display_data';\n",
              "          await google.colab.output.renderOutput(dataTable, element);\n",
              "          const docLink = document.createElement('div');\n",
              "          docLink.innerHTML = docLinkHtml;\n",
              "          element.appendChild(docLink);\n",
              "        }\n",
              "      </script>\n",
              "    </div>\n",
              "  </div>\n",
              "  "
            ]
          },
          "metadata": {},
          "execution_count": 37
        }
      ],
      "source": [
        "final_data.describe() #statistiocal data"
      ]
    },
    {
      "cell_type": "markdown",
      "metadata": {
        "id": "cC2jI-w1444x"
      },
      "source": [
        "### Correlation metrix"
      ]
    },
    {
      "cell_type": "markdown",
      "source": [
        "Correlation metrix\n",
        "Calculates the correlation between columns in the final_data DataFrame. It computes pairwise correlations between all columns, which can be useful for understanding the relationships and dependencies among the variables in the dataset.The provided code snippet is concise and efficient for generating a heatmap visualization of the correlation matrix, which can be valuable for exploratory data analysis."
      ],
      "metadata": {
        "id": "KQgj7vFy9prI"
      }
    },
    {
      "cell_type": "code",
      "execution_count": null,
      "metadata": {
        "colab": {
          "base_uri": "https://localhost:8080/",
          "height": 580
        },
        "id": "oXQds4lbHpxw",
        "outputId": "ce76fccc-d132-49d0-f0e4-23a12b5df188"
      },
      "outputs": [
        {
          "output_type": "stream",
          "name": "stderr",
          "text": [
            "<ipython-input-38-98d660aa2539>:1: FutureWarning: The default value of numeric_only in DataFrame.corr is deprecated. In a future version, it will default to False. Select only valid columns or specify the value of numeric_only to silence this warning.\n",
            "  corr = final_data.corr()\n",
            "/usr/local/lib/python3.10/dist-packages/seaborn/matrix.py:202: RuntimeWarning: All-NaN slice encountered\n",
            "  vmin = np.nanmin(calc_data)\n",
            "/usr/local/lib/python3.10/dist-packages/seaborn/matrix.py:207: RuntimeWarning: All-NaN slice encountered\n",
            "  vmax = np.nanmax(calc_data)\n"
          ]
        },
        {
          "output_type": "execute_result",
          "data": {
            "text/plain": [
              "<Axes: >"
            ]
          },
          "metadata": {},
          "execution_count": 38
        },
        {
          "output_type": "display_data",
          "data": {
            "text/plain": [
              "<Figure size 640x480 with 2 Axes>"
            ],
            "image/png": "[encoded data removed]"
          },
          "metadata": {}
        }
      ],
      "source": [
        "corr = final_data.corr()\n",
        "sns.heatmap(corr,cmap=\"coolwarm\")"
      ]
    },
    {
      "cell_type": "code",
      "execution_count": null,
      "metadata": {
        "colab": {
          "base_uri": "https://localhost:8080/"
        },
        "id": "UAu_Xb8kIotA",
        "outputId": "b1f3801c-87bd-4224-ebd5-9551b4c7b2ac"
      },
      "outputs": [
        {
          "output_type": "execute_result",
          "data": {
            "text/plain": [
              "No                                                      float64\n",
              "Funding Programme                                        object\n",
              "LA                                                       object\n",
              "Scheme/Project Name                                      object\n",
              "No_ of Units                                              int64\n",
              "Approved Housing Body                                    object\n",
              "Stage 1 Capital Appraisal                                object\n",
              "Stage 2 Pre Planning                                     object\n",
              "Stage 3 Pre Tender design                                object\n",
              "Stage 4 Tender Report or Final Turnkey/CALF approval     object\n",
              "On Site                                                  object\n",
              "Completed                                                object\n",
              "No_                                                     float64\n",
              "dtype: object"
            ]
          },
          "metadata": {},
          "execution_count": 18
        }
      ],
      "source": [
        "#provides a quick way to inspect the data types and gain an overview of the column-wise data structure.\n",
        "final_data.dtypes"
      ]
    },
    {
      "cell_type": "markdown",
      "metadata": {
        "id": "gkR_Z5aT444y"
      },
      "source": [
        "### Plots a bar chart for 'Funding Programme' and 'No_ of Units', with appropriate labels and a legend, showcasing the relationship between funding programs and the number of units."
      ]
    },
    {
      "cell_type": "code",
      "execution_count": null,
      "metadata": {
        "colab": {
          "base_uri": "https://localhost:8080/",
          "height": 830
        },
        "id": "E99Mbn4IIbtn",
        "outputId": "d559fa37-08ed-4159-d2dd-bf5fb38584af"
      },
      "outputs": [
        {
          "output_type": "error",
          "ename": "IndexError",
          "evalue": "ignored",
          "traceback": [
            "\u001b[0;31m---------------------------------------------------------------------------\u001b[0m",
            "\u001b[0;31mIndexError\u001b[0m                                Traceback (most recent call last)",
            "\u001b[0;32m<ipython-input-19-6951b6739a23>\u001b[0m in \u001b[0;36m<cell line: 1>\u001b[0;34m()\u001b[0m\n\u001b[0;32m----> 1\u001b[0;31m \u001b[0mfinal_data\u001b[0m\u001b[0;34m[\u001b[0m\u001b[0;34m[\u001b[0m\u001b[0;34m'Funding Programme'\u001b[0m\u001b[0;34m,\u001b[0m \u001b[0;34m'No_ of Units'\u001b[0m\u001b[0;34m]\u001b[0m\u001b[0;34m]\u001b[0m\u001b[0;34m.\u001b[0m\u001b[0mplot\u001b[0m\u001b[0;34m(\u001b[0m\u001b[0mkind\u001b[0m\u001b[0;34m=\u001b[0m\u001b[0;34m'bar'\u001b[0m\u001b[0;34m)\u001b[0m\u001b[0;34m\u001b[0m\u001b[0;34m\u001b[0m\u001b[0m\n\u001b[0m\u001b[1;32m      2\u001b[0m \u001b[0mplt\u001b[0m\u001b[0;34m.\u001b[0m\u001b[0mxlabel\u001b[0m\u001b[0;34m(\u001b[0m\u001b[0;34m'funding'\u001b[0m\u001b[0;34m)\u001b[0m\u001b[0;34m\u001b[0m\u001b[0;34m\u001b[0m\u001b[0m\n\u001b[1;32m      3\u001b[0m \u001b[0mplt\u001b[0m\u001b[0;34m.\u001b[0m\u001b[0mylabel\u001b[0m\u001b[0;34m(\u001b[0m\u001b[0;34m'no of units'\u001b[0m\u001b[0;34m)\u001b[0m\u001b[0;34m\u001b[0m\u001b[0;34m\u001b[0m\u001b[0m\n\u001b[1;32m      4\u001b[0m \u001b[0mplt\u001b[0m\u001b[0;34m.\u001b[0m\u001b[0mtitle\u001b[0m\u001b[0;34m(\u001b[0m\u001b[0;34m'funding programme vs. no.of units '\u001b[0m\u001b[0;34m)\u001b[0m\u001b[0;34m\u001b[0m\u001b[0;34m\u001b[0m\u001b[0m\n\u001b[1;32m      5\u001b[0m \u001b[0mplt\u001b[0m\u001b[0;34m.\u001b[0m\u001b[0mlegend\u001b[0m\u001b[0;34m(\u001b[0m\u001b[0;34m)\u001b[0m\u001b[0;34m\u001b[0m\u001b[0;34m\u001b[0m\u001b[0m\n",
            "\u001b[0;32m/usr/local/lib/python3.10/dist-packages/pandas/plotting/_core.py\u001b[0m in \u001b[0;36m__call__\u001b[0;34m(self, *args, **kwargs)\u001b[0m\n\u001b[1;32m    998\u001b[0m                     \u001b[0mdata\u001b[0m\u001b[0;34m.\u001b[0m\u001b[0mcolumns\u001b[0m \u001b[0;34m=\u001b[0m \u001b[0mlabel_name\u001b[0m\u001b[0;34m\u001b[0m\u001b[0;34m\u001b[0m\u001b[0m\n\u001b[1;32m    999\u001b[0m \u001b[0;34m\u001b[0m\u001b[0m\n\u001b[0;32m-> 1000\u001b[0;31m         \u001b[0;32mreturn\u001b[0m \u001b[0mplot_backend\u001b[0m\u001b[0;34m.\u001b[0m\u001b[0mplot\u001b[0m\u001b[0;34m(\u001b[0m\u001b[0mdata\u001b[0m\u001b[0;34m,\u001b[0m \u001b[0mkind\u001b[0m\u001b[0;34m=\u001b[0m\u001b[0mkind\u001b[0m\u001b[0;34m,\u001b[0m \u001b[0;34m**\u001b[0m\u001b[0mkwargs\u001b[0m\u001b[0;34m)\u001b[0m\u001b[0;34m\u001b[0m\u001b[0;34m\u001b[0m\u001b[0m\n\u001b[0m\u001b[1;32m   1001\u001b[0m \u001b[0;34m\u001b[0m\u001b[0m\n\u001b[1;32m   1002\u001b[0m     \u001b[0m__call__\u001b[0m\u001b[0;34m.\u001b[0m\u001b[0m__doc__\u001b[0m \u001b[0;34m=\u001b[0m \u001b[0m__doc__\u001b[0m\u001b[0;34m\u001b[0m\u001b[0;34m\u001b[0m\u001b[0m\n",
            "\u001b[0;32m/usr/local/lib/python3.10/dist-packages/pandas/plotting/_matplotlib/__init__.py\u001b[0m in \u001b[0;36mplot\u001b[0;34m(data, kind, **kwargs)\u001b[0m\n\u001b[1;32m     69\u001b[0m             \u001b[0mkwargs\u001b[0m\u001b[0;34m[\u001b[0m\u001b[0;34m\"ax\"\u001b[0m\u001b[0;34m]\u001b[0m \u001b[0;34m=\u001b[0m \u001b[0mgetattr\u001b[0m\u001b[0;34m(\u001b[0m\u001b[0max\u001b[0m\u001b[0;34m,\u001b[0m \u001b[0;34m\"left_ax\"\u001b[0m\u001b[0;34m,\u001b[0m \u001b[0max\u001b[0m\u001b[0;34m)\u001b[0m\u001b[0;34m\u001b[0m\u001b[0;34m\u001b[0m\u001b[0m\n\u001b[1;32m     70\u001b[0m     \u001b[0mplot_obj\u001b[0m \u001b[0;34m=\u001b[0m \u001b[0mPLOT_CLASSES\u001b[0m\u001b[0;34m[\u001b[0m\u001b[0mkind\u001b[0m\u001b[0;34m]\u001b[0m\u001b[0;34m(\u001b[0m\u001b[0mdata\u001b[0m\u001b[0;34m,\u001b[0m \u001b[0;34m**\u001b[0m\u001b[0mkwargs\u001b[0m\u001b[0;34m)\u001b[0m\u001b[0;34m\u001b[0m\u001b[0;34m\u001b[0m\u001b[0m\n\u001b[0;32m---> 71\u001b[0;31m     \u001b[0mplot_obj\u001b[0m\u001b[0;34m.\u001b[0m\u001b[0mgenerate\u001b[0m\u001b[0;34m(\u001b[0m\u001b[0;34m)\u001b[0m\u001b[0;34m\u001b[0m\u001b[0;34m\u001b[0m\u001b[0m\n\u001b[0m\u001b[1;32m     72\u001b[0m     \u001b[0mplot_obj\u001b[0m\u001b[0;34m.\u001b[0m\u001b[0mdraw\u001b[0m\u001b[0;34m(\u001b[0m\u001b[0;34m)\u001b[0m\u001b[0;34m\u001b[0m\u001b[0;34m\u001b[0m\u001b[0m\n\u001b[1;32m     73\u001b[0m     \u001b[0;32mreturn\u001b[0m \u001b[0mplot_obj\u001b[0m\u001b[0;34m.\u001b[0m\u001b[0mresult\u001b[0m\u001b[0;34m\u001b[0m\u001b[0;34m\u001b[0m\u001b[0m\n",
            "\u001b[0;32m/usr/local/lib/python3.10/dist-packages/pandas/plotting/_matplotlib/core.py\u001b[0m in \u001b[0;36mgenerate\u001b[0;34m(self)\u001b[0m\n\u001b[1;32m    457\u001b[0m         \u001b[0;32mfor\u001b[0m \u001b[0max\u001b[0m \u001b[0;32min\u001b[0m \u001b[0mself\u001b[0m\u001b[0;34m.\u001b[0m\u001b[0maxes\u001b[0m\u001b[0;34m:\u001b[0m\u001b[0;34m\u001b[0m\u001b[0;34m\u001b[0m\u001b[0m\n\u001b[1;32m    458\u001b[0m             \u001b[0mself\u001b[0m\u001b[0;34m.\u001b[0m\u001b[0m_post_plot_logic_common\u001b[0m\u001b[0;34m(\u001b[0m\u001b[0max\u001b[0m\u001b[0;34m,\u001b[0m \u001b[0mself\u001b[0m\u001b[0;34m.\u001b[0m\u001b[0mdata\u001b[0m\u001b[0;34m)\u001b[0m\u001b[0;34m\u001b[0m\u001b[0;34m\u001b[0m\u001b[0m\n\u001b[0;32m--> 459\u001b[0;31m             \u001b[0mself\u001b[0m\u001b[0;34m.\u001b[0m\u001b[0m_post_plot_logic\u001b[0m\u001b[0;34m(\u001b[0m\u001b[0max\u001b[0m\u001b[0;34m,\u001b[0m \u001b[0mself\u001b[0m\u001b[0;34m.\u001b[0m\u001b[0mdata\u001b[0m\u001b[0;34m)\u001b[0m\u001b[0;34m\u001b[0m\u001b[0;34m\u001b[0m\u001b[0m\n\u001b[0m\u001b[1;32m    460\u001b[0m \u001b[0;34m\u001b[0m\u001b[0m\n\u001b[1;32m    461\u001b[0m     \u001b[0;32mdef\u001b[0m \u001b[0m_args_adjust\u001b[0m\u001b[0;34m(\u001b[0m\u001b[0mself\u001b[0m\u001b[0;34m)\u001b[0m\u001b[0;34m:\u001b[0m\u001b[0;34m\u001b[0m\u001b[0;34m\u001b[0m\u001b[0m\n",
            "\u001b[0;32m/usr/local/lib/python3.10/dist-packages/pandas/plotting/_matplotlib/core.py\u001b[0m in \u001b[0;36m_post_plot_logic\u001b[0;34m(self, ax, data)\u001b[0m\n\u001b[1;32m   1737\u001b[0m             \u001b[0mstr_index\u001b[0m \u001b[0;34m=\u001b[0m \u001b[0;34m[\u001b[0m\u001b[0mpprint_thing\u001b[0m\u001b[0;34m(\u001b[0m\u001b[0mkey\u001b[0m\u001b[0;34m)\u001b[0m \u001b[0;32mfor\u001b[0m \u001b[0mkey\u001b[0m \u001b[0;32min\u001b[0m \u001b[0mrange\u001b[0m\u001b[0;34m(\u001b[0m\u001b[0mdata\u001b[0m\u001b[0;34m.\u001b[0m\u001b[0mshape\u001b[0m\u001b[0;34m[\u001b[0m\u001b[0;36m0\u001b[0m\u001b[0;34m]\u001b[0m\u001b[0;34m)\u001b[0m\u001b[0;34m]\u001b[0m\u001b[0;34m\u001b[0m\u001b[0;34m\u001b[0m\u001b[0m\n\u001b[1;32m   1738\u001b[0m \u001b[0;34m\u001b[0m\u001b[0m\n\u001b[0;32m-> 1739\u001b[0;31m         \u001b[0ms_edge\u001b[0m \u001b[0;34m=\u001b[0m \u001b[0mself\u001b[0m\u001b[0;34m.\u001b[0m\u001b[0max_pos\u001b[0m\u001b[0;34m[\u001b[0m\u001b[0;36m0\u001b[0m\u001b[0;34m]\u001b[0m \u001b[0;34m-\u001b[0m \u001b[0;36m0.25\u001b[0m \u001b[0;34m+\u001b[0m \u001b[0mself\u001b[0m\u001b[0;34m.\u001b[0m\u001b[0mlim_offset\u001b[0m\u001b[0;34m\u001b[0m\u001b[0;34m\u001b[0m\u001b[0m\n\u001b[0m\u001b[1;32m   1740\u001b[0m         \u001b[0me_edge\u001b[0m \u001b[0;34m=\u001b[0m \u001b[0mself\u001b[0m\u001b[0;34m.\u001b[0m\u001b[0max_pos\u001b[0m\u001b[0;34m[\u001b[0m\u001b[0;34m-\u001b[0m\u001b[0;36m1\u001b[0m\u001b[0;34m]\u001b[0m \u001b[0;34m+\u001b[0m \u001b[0;36m0.25\u001b[0m \u001b[0;34m+\u001b[0m \u001b[0mself\u001b[0m\u001b[0;34m.\u001b[0m\u001b[0mbar_width\u001b[0m \u001b[0;34m+\u001b[0m \u001b[0mself\u001b[0m\u001b[0;34m.\u001b[0m\u001b[0mlim_offset\u001b[0m\u001b[0;34m\u001b[0m\u001b[0;34m\u001b[0m\u001b[0m\n\u001b[1;32m   1741\u001b[0m \u001b[0;34m\u001b[0m\u001b[0m\n",
            "\u001b[0;31mIndexError\u001b[0m: index 0 is out of bounds for axis 0 with size 0"
          ]
        },
        {
          "output_type": "display_data",
          "data": {
            "text/plain": [
              "<Figure size 640x480 with 1 Axes>"
            ],
            "image/png": "[encoded data removed]"
          },
          "metadata": {}
        }
      ],
      "source": [
        "final_data[['Funding Programme', 'No_ of Units']].plot(kind='bar')\n",
        "plt.xlabel('funding')\n",
        "plt.ylabel('no of units')\n",
        "plt.title('funding programme vs. no.of units ')\n",
        "plt.legend()\n",
        "plt.show()"
      ]
    },
    {
      "cell_type": "markdown",
      "metadata": {
        "id": "U8crN1p0444y"
      },
      "source": [
        "### Distribution of Total approved housing and units'"
      ]
    },
    {
      "cell_type": "code",
      "execution_count": null,
      "metadata": {
        "colab": {
          "base_uri": "https://localhost:8080/",
          "height": 472
        },
        "id": "bD_ojfQAIzov",
        "outputId": "6ec5445b-47f5-4816-d77e-ade77a0d8439"
      },
      "outputs": [
        {
          "output_type": "display_data",
          "data": {
            "text/plain": [
              "<Figure size 640x480 with 1 Axes>"
            ],
            "image/png": "[encoded data removed]"
          },
          "metadata": {}
        }
      ],
      "source": [
        "final_data[['Approved Housing Body', 'No_ of Units']].plot(kind='hist', bins=10)\n",
        "plt.xlabel('Housing body')\n",
        "plt.ylabel('units')\n",
        "plt.title('Distribution of Total approved housing and units')\n",
        "plt.legend()\n",
        "plt.show()"
      ]
    },
    {
      "cell_type": "markdown",
      "metadata": {
        "id": "Ut3e72JK444z"
      },
      "source": [
        "### Box Plot of completed and units"
      ]
    },
    {
      "cell_type": "code",
      "execution_count": null,
      "metadata": {
        "colab": {
          "base_uri": "https://localhost:8080/",
          "height": 452
        },
        "id": "9E22t05YJ3J0",
        "outputId": "3311a0d9-6390-418e-83be-96c2704b37f3"
      },
      "outputs": [
        {
          "data": {
            "image/png": "[encoded data removed]",
            "text/plain": [
              "<Figure size 640x480 with 1 Axes>"
            ]
          },
          "metadata": {},
          "output_type": "display_data"
        }
      ],
      "source": [
        "final_data[['Completed', 'No_ of Units']].plot(kind='box')\n",
        "plt.ylabel('Completed')\n",
        "plt.title('Box Plot of completed and units')\n",
        "plt.show()"
      ]
    },
    {
      "cell_type": "markdown",
      "metadata": {
        "id": "o4DRDwdSKFXC",
        "outputId": "a18211e5-01c5-4512-c944-b1e91a8a9d4a"
      },
      "source": [
        "### Frequency Distribution of list of cities"
      ]
    },
    {
      "cell_type": "code",
      "execution_count": null,
      "metadata": {
        "colab": {
          "base_uri": "https://localhost:8080/",
          "height": 789
        },
        "id": "DrA-YHC5Kr5N",
        "outputId": "90b796b6-7f89-405d-f2b3-181cb858152e"
      },
      "outputs": [
        {
          "data": {
            "image/png": "[encoded data removed]",
            "text/plain": [
              "<Figure size 1200x800 with 1 Axes>"
            ]
          },
          "metadata": {},
          "output_type": "display_data"
        }
      ],
      "source": [
        "#LA=Cities\n",
        "plt.figure(figsize=(12,8))\n",
        "la_counts = final_data['LA'].value_counts()\n",
        "plt.bar(la_counts.index, la_counts.values)\n",
        "plt.xlabel('LA')\n",
        "plt.ylabel('Frequency')\n",
        "plt.title('Frequency Distribution of LA')\n",
        "plt.xticks(rotation=45)\n",
        "plt.show()\n"
      ]
    },
    {
      "cell_type": "markdown",
      "metadata": {
        "id": "3uSExnId4440"
      },
      "source": [
        "### Unique values"
      ]
    },
    {
      "cell_type": "code",
      "execution_count": null,
      "metadata": {
        "colab": {
          "base_uri": "https://localhost:8080/"
        },
        "id": "XFoA9RqyLRwN",
        "outputId": "69f0735b-4519-4467-b7f5-88447cec8750"
      },
      "outputs": [
        {
          "data": {
            "text/plain": [
              "array(['Carlow', 'Cavan', 'Clare', 'Cork City', 'Cork County', 'DLR',\n",
              "       'Donegal', 'Dublin City', 'Fingal', 'Galway City', 'Galway County',\n",
              "       'Kerry', 'Kildare', 'Kilkenny', 'Laois', 'Leitrim', 'Limerick',\n",
              "       'Longford', 'Louth', 'Mayo', 'Meath', 'Monaghan', 'Offaly',\n",
              "       'Roscommon', 'Sligo', 'South Dublin', 'Tipperary', 'Waterford',\n",
              "       'Westmeath', 'Wexford', 'Wicklow'], dtype=object)"
            ]
          },
          "execution_count": 67,
          "metadata": {},
          "output_type": "execute_result"
        }
      ],
      "source": [
        "final_data[\"LA\"].unique()"
      ]
    },
    {
      "cell_type": "markdown",
      "metadata": {
        "id": "I-1D4E5RMqFY"
      },
      "source": [
        "### Statistical Testing"
      ]
    },
    {
      "cell_type": "code",
      "execution_count": null,
      "metadata": {
        "id": "PYWioaCiMAy6"
      },
      "outputs": [],
      "source": [
        "from scipy.stats import ttest_ind, f_oneway, mannwhitneyu, kruskal, chi2_contingency"
      ]
    },
    {
      "cell_type": "markdown",
      "metadata": {
        "id": "C06BawFvUKuC"
      },
      "source": [
        "### Parametric_tests"
      ]
    },
    {
      "cell_type": "code",
      "execution_count": null,
      "metadata": {
        "id": "rUn-RNtIMvv6"
      },
      "outputs": [],
      "source": [
        "carlow_state = final_data[final_data['LA'] == 'Carlow']['No_ of Units']\n",
        "Manoghan_state = final_data[final_data[\"LA\"] == \"Monaghan\"][\"No_ of Units\"]"
      ]
    },
    {
      "cell_type": "code",
      "execution_count": null,
      "metadata": {
        "id": "EEB4BWQvOeYY"
      },
      "outputs": [],
      "source": [
        "parametric_tests = []\n",
        "\n",
        "# Independent Samples t-test\n",
        "t_stat, p_value = ttest_ind(carlow_state, Manoghan_state)\n",
        "parametric_tests.append(('carlow vs. manoghan', t_stat, p_value))\n"
      ]
    },
    {
      "cell_type": "code",
      "execution_count": null,
      "metadata": {
        "colab": {
          "base_uri": "https://localhost:8080/"
        },
        "id": "o5pZGpxQPczS",
        "outputId": "335947b2-1512-45bd-cfdc-27a0d079a88c"
      },
      "outputs": [
        {
          "name": "stdout",
          "output_type": "stream",
          "text": [
            "parametric Tests:\n",
            "carlow vs. manoghan: t-statistic=-0.21398430384668615, p-value=0.8309864727353099\n"
          ]
        }
      ],
      "source": [
        "print(\"parametric Tests:\")\n",
        "for test in parametric_tests:\n",
        "    print(f\"{test[0]}: t-statistic={test[1]}, p-value={test[2]}\")\n"
      ]
    },
    {
      "cell_type": "markdown",
      "metadata": {
        "id": "gLkOuwMqS7Vz"
      },
      "source": [
        "### Anova model between difference of states"
      ]
    },
    {
      "cell_type": "code",
      "execution_count": null,
      "metadata": {
        "id": "Ps5uQsYrS6Lq"
      },
      "outputs": [],
      "source": [
        "carlow_state = final_data[final_data['LA'] == 'Carlow']['No_ of Units']\n",
        "Manoghan_state = final_data[final_data[\"LA\"] == \"Monaghan\"][\"No_ of Units\"]\n",
        "Cavan_state = final_data[final_data['LA'] == 'Cavan']['No_ of Units']\n",
        "Louth_state = final_data[final_data['LA'] == 'Louth']['No_ of Units']\n",
        "Mayo_state = final_data[final_data[\"LA\"] == \"Mayo\"][\"No_ of Units\"]"
      ]
    },
    {
      "cell_type": "markdown",
      "metadata": {
        "id": "mnBGCRU_445Z"
      },
      "source": [
        "### Parametric Anova"
      ]
    },
    {
      "cell_type": "code",
      "execution_count": null,
      "metadata": {
        "id": "Yv8Y88tXP_Qw"
      },
      "outputs": [],
      "source": [
        "f_stat, p_value = f_oneway(carlow_state,Manoghan_state,Cavan_state,Louth_state,Mayo_state)\n",
        "parametric_tests.append(('ANOVA', f_stat, p_value))"
      ]
    },
    {
      "cell_type": "code",
      "execution_count": null,
      "metadata": {
        "colab": {
          "base_uri": "https://localhost:8080/"
        },
        "id": "6R3lq0OwT_dS",
        "outputId": "f27c8a14-18ac-441d-b7d0-2e1c6d18116f"
      },
      "outputs": [
        {
          "name": "stdout",
          "output_type": "stream",
          "text": [
            "Parametric Tests:\n",
            "carlow vs. manoghan: t-statistic=-0.21398430384668615, p-value=0.8309864727353099\n",
            "ANOVA: t-statistic=1.6421008484719033, p-value=0.16300749948600046\n"
          ]
        }
      ],
      "source": [
        "# Print results\n",
        "print(\"Parametric Tests:\")\n",
        "for test in parametric_tests:\n",
        "    print(f\"{test[0]}: t-statistic={test[1]}, p-value={test[2]}\")"
      ]
    },
    {
      "cell_type": "markdown",
      "metadata": {
        "id": "MRV24P7WUOdn"
      },
      "source": [
        "### Non_parametric tests"
      ]
    },
    {
      "cell_type": "code",
      "execution_count": null,
      "metadata": {
        "id": "8SW_nC0LUnaR"
      },
      "outputs": [],
      "source": [
        "# Non-parametric Tests\n",
        "non_parametric_tests = []"
      ]
    },
    {
      "cell_type": "code",
      "execution_count": null,
      "metadata": {
        "id": "BlyRhYMCUGD8"
      },
      "outputs": [],
      "source": [
        "u_stat, p_value = mannwhitneyu(carlow_state, Manoghan_state)\n",
        "non_parametric_tests.append(('carlow vs. manoghan', u_stat, p_value))"
      ]
    },
    {
      "cell_type": "code",
      "execution_count": null,
      "metadata": {
        "colab": {
          "base_uri": "https://localhost:8080/"
        },
        "id": "X-NrzB_ZUjFF",
        "outputId": "3cbb72d2-aafd-41eb-c44e-655a8fbf58b7"
      },
      "outputs": [
        {
          "name": "stdout",
          "output_type": "stream",
          "text": [
            "Non-parametric Tests:\n",
            "carlow vs. manoghan: statistic=1402.5, p-value=0.7041215991148376\n"
          ]
        }
      ],
      "source": [
        "print(\"Non-parametric Tests:\")\n",
        "for test in non_parametric_tests:\n",
        "    print(f\"{test[0]}: statistic={test[1]}, p-value={test[2]}\")"
      ]
    },
    {
      "cell_type": "markdown",
      "metadata": {
        "id": "R5aYDbQEUzzJ"
      },
      "source": [
        "### Kruskal-Wallis test"
      ]
    },
    {
      "cell_type": "code",
      "execution_count": null,
      "metadata": {
        "id": "rvuP2vZ8U-_4"
      },
      "outputs": [],
      "source": [
        "non_parametric_tests=[]"
      ]
    },
    {
      "cell_type": "code",
      "execution_count": null,
      "metadata": {
        "id": "upSq4vFQUyyx"
      },
      "outputs": [],
      "source": [
        "h_stat, p_value = kruskal(carlow_state,Manoghan_state,Cavan_state,Louth_state,Mayo_state)\n",
        "non_parametric_tests.append(('Kruskal-Wallis', h_stat, p_value))"
      ]
    },
    {
      "cell_type": "code",
      "execution_count": null,
      "metadata": {
        "colab": {
          "base_uri": "https://localhost:8080/"
        },
        "id": "7AExsTh-UtbQ",
        "outputId": "793c315b-21e1-425f-f3a2-c2a5f6d925db"
      },
      "outputs": [
        {
          "name": "stdout",
          "output_type": "stream",
          "text": [
            "Non-parametric Tests:\n",
            "Kruskal-Wallis: statistic=4.133892172585499, p-value=0.3881886757058378\n"
          ]
        }
      ],
      "source": [
        "print(\"Non-parametric Tests:\")\n",
        "for test in non_parametric_tests:\n",
        "    print(f\"{test[0]}: statistic={test[1]}, p-value={test[2]}\")"
      ]
    },
    {
      "cell_type": "markdown",
      "metadata": {
        "id": "lkM2JjC_1MB8"
      },
      "source": [
        "### Machine learning algorithms"
      ]
    },
    {
      "cell_type": "code",
      "execution_count": null,
      "metadata": {
        "id": "MyCbSPzq0TBN"
      },
      "outputs": [],
      "source": [
        "#Import libraries\n",
        "import pandas as pd\n",
        "from sklearn.linear_model import LinearRegression\n",
        "from sklearn.svm import SVR\n",
        "from sklearn.feature_extraction.text import CountVectorizer\n",
        "from sklearn.naive_bayes import MultinomialNB\n",
        "from sklearn.model_selection import GridSearchCV\n",
        "from sklearn.metrics import classification_report\n",
        "from sklearn.model_selection import train_test_split\n",
        "from sklearn.feature_extraction.text import TfidfVectorizer"
      ]
    },
    {
      "cell_type": "code",
      "execution_count": null,
      "metadata": {
        "colab": {
          "base_uri": "https://localhost:8080/",
          "height": 459
        },
        "id": "rwgUwzjd1PHg",
        "outputId": "784c721a-6915-4856-ae30-b3f97ac2d7b1"
      },
      "outputs": [
        {
          "data": {
            "text/html": [
              "\n",
              "  <div id=\"df-c5d291df-475f-4d6d-904a-518304459814\">\n",
              "    <div class=\"colab-df-container\">\n",
              "      <div>\n",
              "<style scoped>\n",
              "    .dataframe tbody tr th:only-of-type {\n",
              "        vertical-align: middle;\n",
              "    }\n",
              "\n",
              "    .dataframe tbody tr th {\n",
              "        vertical-align: top;\n",
              "    }\n",
              "\n",
              "    .dataframe thead th {\n",
              "        text-align: right;\n",
              "    }\n",
              "</style>\n",
              "<table border=\"1\" class=\"dataframe\">\n",
              "  <thead>\n",
              "    <tr style=\"text-align: right;\">\n",
              "      <th></th>\n",
              "      <th>No</th>\n",
              "      <th>Funding Programme</th>\n",
              "      <th>LA</th>\n",
              "      <th>Scheme/Project Name</th>\n",
              "      <th>No_ of Units</th>\n",
              "      <th>Approved Housing Body</th>\n",
              "      <th>Stage 1 Capital Appraisal</th>\n",
              "      <th>Stage 2 Pre Planning</th>\n",
              "      <th>Stage 3 Pre Tender design</th>\n",
              "      <th>Stage 4 Tender Report or Final Turnkey/CALF approval</th>\n",
              "      <th>On Site</th>\n",
              "      <th>Completed</th>\n",
              "      <th>No_</th>\n",
              "    </tr>\n",
              "  </thead>\n",
              "  <tbody>\n",
              "    <tr>\n",
              "      <th>6820</th>\n",
              "      <td>1077.5</td>\n",
              "      <td>SHIP CONSTRUCTION TURNKEY</td>\n",
              "      <td>Carlow</td>\n",
              "      <td>Carrigbrook, Tullow Road, Carlow</td>\n",
              "      <td>6</td>\n",
              "      <td>*N/A</td>\n",
              "      <td></td>\n",
              "      <td></td>\n",
              "      <td></td>\n",
              "      <td></td>\n",
              "      <td></td>\n",
              "      <td>Q3-2019</td>\n",
              "      <td>1.0</td>\n",
              "    </tr>\n",
              "    <tr>\n",
              "      <th>6821</th>\n",
              "      <td>1077.5</td>\n",
              "      <td>SHIP CONSTRUCTION TURNKEY</td>\n",
              "      <td>Carlow</td>\n",
              "      <td>Carrigbrook, Tullow Road, Carlow</td>\n",
              "      <td>6</td>\n",
              "      <td>*N/A</td>\n",
              "      <td></td>\n",
              "      <td></td>\n",
              "      <td></td>\n",
              "      <td></td>\n",
              "      <td></td>\n",
              "      <td>Q3-2019</td>\n",
              "      <td>2.0</td>\n",
              "    </tr>\n",
              "    <tr>\n",
              "      <th>6822</th>\n",
              "      <td>1077.5</td>\n",
              "      <td>SHIP CONSTRUCTION TURNKEY</td>\n",
              "      <td>Carlow</td>\n",
              "      <td>Carrigbrook, Tullow Road, Carlow</td>\n",
              "      <td>12</td>\n",
              "      <td>*N/A</td>\n",
              "      <td></td>\n",
              "      <td></td>\n",
              "      <td></td>\n",
              "      <td></td>\n",
              "      <td></td>\n",
              "      <td>Q3-2020</td>\n",
              "      <td>3.0</td>\n",
              "    </tr>\n",
              "    <tr>\n",
              "      <th>6823</th>\n",
              "      <td>1077.5</td>\n",
              "      <td>SHIP CONSTRUCTION TURNKEY</td>\n",
              "      <td>Carlow</td>\n",
              "      <td>Carrigbrook, Tullow Road, Carlow</td>\n",
              "      <td>10</td>\n",
              "      <td>*N/A</td>\n",
              "      <td></td>\n",
              "      <td></td>\n",
              "      <td></td>\n",
              "      <td></td>\n",
              "      <td></td>\n",
              "      <td>Q4-2020</td>\n",
              "      <td>4.0</td>\n",
              "    </tr>\n",
              "    <tr>\n",
              "      <th>6824</th>\n",
              "      <td>1077.5</td>\n",
              "      <td>SHIP CONSTRUCTION TURNKEY</td>\n",
              "      <td>Carlow</td>\n",
              "      <td>Carrigbrook, Tullow Road, Carlow</td>\n",
              "      <td>10</td>\n",
              "      <td>*N/A</td>\n",
              "      <td></td>\n",
              "      <td></td>\n",
              "      <td></td>\n",
              "      <td></td>\n",
              "      <td>Q4-2017</td>\n",
              "      <td></td>\n",
              "      <td>5.0</td>\n",
              "    </tr>\n",
              "  </tbody>\n",
              "</table>\n",
              "</div>\n",
              "      <button class=\"colab-df-convert\" onclick=\"convertToInteractive('df-c5d291df-475f-4d6d-904a-518304459814')\"\n",
              "              title=\"Convert this dataframe to an interactive table.\"\n",
              "              style=\"display:none;\">\n",
              "        \n",
              "  <svg xmlns=\"http://www.w3.org/2000/svg\" height=\"24px\"viewBox=\"0 0 24 24\"\n",
              "       width=\"24px\">\n",
              "    <path d=\"M0 0h24v24H0V0z\" fill=\"none\"/>\n",
              "    <path d=\"M18.56 5.44l.94 2.06.94-2.06 2.06-.94-2.06-.94-.94-2.06-.94 2.06-2.06.94zm-11 1L8.5 8.5l.94-2.06 2.06-.94-2.06-.94L8.5 2.5l-.94 2.06-2.06.94zm10 10l.94 2.06.94-2.06 2.06-.94-2.06-.94-.94-2.06-.94 2.06-2.06.94z\"/><path d=\"M17.41 7.96l-1.37-1.37c-.4-.4-.92-.59-1.43-.59-.52 0-1.04.2-1.43.59L10.3 9.45l-7.72 7.72c-.78.78-.78 2.05 0 2.83L4 21.41c.39.39.9.59 1.41.59.51 0 1.02-.2 1.41-.59l7.78-7.78 2.81-2.81c.8-.78.8-2.07 0-2.86zM5.41 20L4 18.59l7.72-7.72 1.47 1.35L5.41 20z\"/>\n",
              "  </svg>\n",
              "      </button>\n",
              "      \n",
              "  <style>\n",
              "    .colab-df-container {\n",
              "      display:flex;\n",
              "      flex-wrap:wrap;\n",
              "      gap: 12px;\n",
              "    }\n",
              "\n",
              "    .colab-df-convert {\n",
              "      background-color: #E8F0FE;\n",
              "      border: none;\n",
              "      border-radius: 50%;\n",
              "      cursor: pointer;\n",
              "      display: none;\n",
              "      fill: #1967D2;\n",
              "      height: 32px;\n",
              "      padding: 0 0 0 0;\n",
              "      width: 32px;\n",
              "    }\n",
              "\n",
              "    .colab-df-convert:hover {\n",
              "      background-color: #E2EBFA;\n",
              "      box-shadow: 0px 1px 2px rgba(60, 64, 67, 0.3), 0px 1px 3px 1px rgba(60, 64, 67, 0.15);\n",
              "      fill: #174EA6;\n",
              "    }\n",
              "\n",
              "    [theme=dark] .colab-df-convert {\n",
              "      background-color: #3B4455;\n",
              "      fill: #D2E3FC;\n",
              "    }\n",
              "\n",
              "    [theme=dark] .colab-df-convert:hover {\n",
              "      background-color: #434B5C;\n",
              "      box-shadow: 0px 1px 3px 1px rgba(0, 0, 0, 0.15);\n",
              "      filter: drop-shadow(0px 1px 2px rgba(0, 0, 0, 0.3));\n",
              "      fill: #FFFFFF;\n",
              "    }\n",
              "  </style>\n",
              "\n",
              "      <script>\n",
              "        const buttonEl =\n",
              "          document.querySelector('#df-c5d291df-475f-4d6d-904a-518304459814 button.colab-df-convert');\n",
              "        buttonEl.style.display =\n",
              "          google.colab.kernel.accessAllowed ? 'block' : 'none';\n",
              "\n",
              "        async function convertToInteractive(key) {\n",
              "          const element = document.querySelector('#df-c5d291df-475f-4d6d-904a-518304459814');\n",
              "          const dataTable =\n",
              "            await google.colab.kernel.invokeFunction('convertToInteractive',\n",
              "                                                     [key], {});\n",
              "          if (!dataTable) return;\n",
              "\n",
              "          const docLinkHtml = 'Like what you see? Visit the ' +\n",
              "            '<a target=\"_blank\" href=https://colab.research.google.com/notebooks/data_table.ipynb>data table notebook</a>'\n",
              "            + ' to learn more about interactive tables.';\n",
              "          element.innerHTML = '';\n",
              "          dataTable['output_type'] = 'display_data';\n",
              "          await google.colab.output.renderOutput(dataTable, element);\n",
              "          const docLink = document.createElement('div');\n",
              "          docLink.innerHTML = docLinkHtml;\n",
              "          element.appendChild(docLink);\n",
              "        }\n",
              "      </script>\n",
              "    </div>\n",
              "  </div>\n",
              "  "
            ],
            "text/plain": [
              "          No          Funding Programme      LA  \\\n",
              "6820  1077.5  SHIP CONSTRUCTION TURNKEY  Carlow   \n",
              "6821  1077.5  SHIP CONSTRUCTION TURNKEY  Carlow   \n",
              "6822  1077.5  SHIP CONSTRUCTION TURNKEY  Carlow   \n",
              "6823  1077.5  SHIP CONSTRUCTION TURNKEY  Carlow   \n",
              "6824  1077.5  SHIP CONSTRUCTION TURNKEY  Carlow   \n",
              "\n",
              "                   Scheme/Project Name  No_ of Units Approved Housing Body  \\\n",
              "6820  Carrigbrook, Tullow Road, Carlow             6                  *N/A   \n",
              "6821  Carrigbrook, Tullow Road, Carlow             6                  *N/A   \n",
              "6822  Carrigbrook, Tullow Road, Carlow            12                  *N/A   \n",
              "6823  Carrigbrook, Tullow Road, Carlow            10                  *N/A   \n",
              "6824  Carrigbrook, Tullow Road, Carlow            10                  *N/A   \n",
              "\n",
              "     Stage 1 Capital Appraisal Stage 2 Pre Planning Stage 3 Pre Tender design  \\\n",
              "6820                                                                            \n",
              "6821                                                                            \n",
              "6822                                                                            \n",
              "6823                                                                            \n",
              "6824                                                                            \n",
              "\n",
              "     Stage 4 Tender Report or Final Turnkey/CALF approval  On Site Completed  \\\n",
              "6820                                                                 Q3-2019   \n",
              "6821                                                                 Q3-2019   \n",
              "6822                                                                 Q3-2020   \n",
              "6823                                                                 Q4-2020   \n",
              "6824                                                       Q4-2017             \n",
              "\n",
              "      No_  \n",
              "6820  1.0  \n",
              "6821  2.0  \n",
              "6822  3.0  \n",
              "6823  4.0  \n",
              "6824  5.0  "
            ]
          },
          "execution_count": 119,
          "metadata": {},
          "output_type": "execute_result"
        }
      ],
      "source": [
        "final_data.head() #show head of dataset"
      ]
    },
    {
      "cell_type": "code",
      "execution_count": null,
      "metadata": {
        "colab": {
          "base_uri": "https://localhost:8080/"
        },
        "id": "kDJi6ktB2A6k",
        "outputId": "5a137ed8-4d8c-454c-a110-d769c593ce29"
      },
      "outputs": [
        {
          "data": {
            "text/plain": [
              "Index(['No', 'Funding Programme', 'LA', 'Scheme/Project Name', 'No_ of Units',\n",
              "       'Approved Housing Body', 'Stage 1 Capital Appraisal',\n",
              "       'Stage 2 Pre Planning', 'Stage 3 Pre Tender design',\n",
              "       'Stage 4 Tender Report or Final Turnkey/CALF approval', 'On Site',\n",
              "       'Completed', 'No_'],\n",
              "      dtype='object')"
            ]
          },
          "execution_count": 114,
          "metadata": {},
          "output_type": "execute_result"
        }
      ],
      "source": [
        "final_data.columns #show howmany columns we have"
      ]
    },
    {
      "cell_type": "code",
      "execution_count": null,
      "metadata": {
        "id": "IGQVg6W51StC"
      },
      "outputs": [],
      "source": [
        "## seperating the data as texts and label \n",
        "X=final_data[\"Scheme/Project Name\"]\n",
        "Y=final_data[\"No_ of Units\"]"
      ]
    },
    {
      "cell_type": "code",
      "execution_count": null,
      "metadata": {
        "id": "LAKQryfN2HnQ"
      },
      "outputs": [],
      "source": [
        "#The given code snippet utilizes the train_test_split function from a machine learning library (potentially scikit-learn) to split the dataset into training and testing sets.\n",
        "X_train,X_test,Y_train,Y_test = train_test_split(X,Y,test_size=0.2,random_state=3) "
      ]
    },
    {
      "cell_type": "code",
      "execution_count": null,
      "metadata": {
        "id": "up4OzPE_2Lls"
      },
      "outputs": [],
      "source": [
        "##transform the text data into vectors\n",
        "feature_extraction = TfidfVectorizer(min_df=1,stop_words=\"english\",lowercase=True)"
      ]
    },
    {
      "cell_type": "code",
      "execution_count": null,
      "metadata": {
        "id": "yd0jOW0o2qCL"
      },
      "outputs": [],
      "source": [
        "#The code applies feature extraction to transform the training and testing feature sets accordingly.\n",
        "X_train_features = feature_extraction.fit_transform(X_train)\n",
        "X_test_features = feature_extraction.transform(X_test)"
      ]
    },
    {
      "cell_type": "code",
      "execution_count": null,
      "metadata": {
        "id": "z9N0UsOH2yqY"
      },
      "outputs": [],
      "source": [
        "#convert Y_train & Y_test value as integers \n",
        "Y_train = Y_train.astype(\"int\")\n",
        "Y_test = Y_test.astype(\"int\")"
      ]
    },
    {
      "cell_type": "code",
      "execution_count": null,
      "metadata": {
        "colab": {
          "base_uri": "https://localhost:8080/"
        },
        "id": "rTA6vcPa26CM",
        "outputId": "a01bac73-dc18-4e4f-d585-6277892f353b"
      },
      "outputs": [
        {
          "name": "stdout",
          "output_type": "stream",
          "text": [
            "  (0, 1124)\t1.0\n",
            "  (1, 811)\t0.508977372783904\n",
            "  (1, 165)\t0.5570008565719008\n",
            "  (1, 1485)\t0.6562713461459091\n",
            "  (2, 652)\t0.3460552333875169\n",
            "  (2, 333)\t0.5470577950051873\n",
            "  (2, 666)\t0.37458879380746274\n",
            "  (2, 2043)\t0.663819839958888\n",
            "  (3, 1624)\t0.5432556159557197\n",
            "  (3, 1880)\t0.3080541929340642\n",
            "  (3, 67)\t0.48175863474111275\n",
            "  (3, 487)\t0.614723163546562\n",
            "  (4, 1602)\t0.16121708656887715\n",
            "  (4, 1171)\t0.40577131179856707\n",
            "  (4, 1164)\t0.5443457053085821\n",
            "  (4, 1044)\t0.43057202675946576\n",
            "  (4, 904)\t0.5724108458125697\n",
            "  (5, 1930)\t0.663652334113554\n",
            "  (5, 726)\t0.7480411615851309\n",
            "  (6, 183)\t0.6190318760123033\n",
            "  (6, 1895)\t0.765028912735073\n",
            "  (6, 1602)\t0.17756773119032732\n",
            "  (7, 776)\t0.46228669571992725\n",
            "  (7, 350)\t0.7569499942093998\n",
            "  (7, 1602)\t0.1756925664623086\n",
            "  :\t:\n",
            "  (1941, 585)\t0.6220833047876412\n",
            "  (1941, 494)\t0.6496366523166626\n",
            "  (1941, 1583)\t0.40035864621056955\n",
            "  (1941, 1602)\t0.17520712392972626\n",
            "  (1942, 982)\t0.4448272644328925\n",
            "  (1942, 997)\t0.4274593985889525\n",
            "  (1942, 2020)\t0.3536772549108958\n",
            "  (1942, 1024)\t0.39170730161612904\n",
            "  (1942, 26)\t0.4093603852837898\n",
            "  (1942, 1973)\t0.39490860226452706\n",
            "  (1942, 1602)\t0.13174303553588412\n",
            "  (1943, 1149)\t0.7071067811865476\n",
            "  (1943, 123)\t0.7071067811865476\n",
            "  (1944, 354)\t0.7071067811865476\n",
            "  (1944, 700)\t0.7071067811865476\n",
            "  (1945, 1774)\t0.5127026250505085\n",
            "  (1945, 539)\t0.5127026250505085\n",
            "  (1945, 481)\t0.42252121836381556\n",
            "  (1945, 1313)\t0.4412355511201623\n",
            "  (1945, 1519)\t0.2947842151307848\n",
            "  (1945, 1602)\t0.11900130882644237\n",
            "  (1946, 1364)\t0.6386977520695923\n",
            "  (1946, 1464)\t0.5050561891260582\n",
            "  (1946, 463)\t0.5572827093458624\n",
            "  (1946, 1602)\t0.16254048477486446\n"
          ]
        }
      ],
      "source": [
        "#show trained data\n",
        "print(X_train_features)"
      ]
    },
    {
      "cell_type": "code",
      "execution_count": null,
      "metadata": {
        "colab": {
          "base_uri": "https://localhost:8080/",
          "height": 75
        },
        "id": "hJQqaZBt28JO",
        "outputId": "8dce97e4-26a2-4d64-f349-85900a24bdf6"
      },
      "outputs": [
        {
          "data": {
            "text/html": [
              "<style>#sk-container-id-1 {color: black;background-color: white;}#sk-container-id-1 pre{padding: 0;}#sk-container-id-1 div.sk-toggleable {background-color: white;}#sk-container-id-1 label.sk-toggleable__label {cursor: pointer;display: block;width: 100%;margin-bottom: 0;padding: 0.3em;box-sizing: border-box;text-align: center;}#sk-container-id-1 label.sk-toggleable__label-arrow:before {content: \"▸\";float: left;margin-right: 0.25em;color: #696969;}#sk-container-id-1 label.sk-toggleable__label-arrow:hover:before {color: black;}#sk-container-id-1 div.sk-estimator:hover label.sk-toggleable__label-arrow:before {color: black;}#sk-container-id-1 div.sk-toggleable__content {max-height: 0;max-width: 0;overflow: hidden;text-align: left;background-color: #f0f8ff;}#sk-container-id-1 div.sk-toggleable__content pre {margin: 0.2em;color: black;border-radius: 0.25em;background-color: #f0f8ff;}#sk-container-id-1 input.sk-toggleable__control:checked~div.sk-toggleable__content {max-height: 200px;max-width: 100%;overflow: auto;}#sk-container-id-1 input.sk-toggleable__control:checked~label.sk-toggleable__label-arrow:before {content: \"▾\";}#sk-container-id-1 div.sk-estimator input.sk-toggleable__control:checked~label.sk-toggleable__label {background-color: #d4ebff;}#sk-container-id-1 div.sk-label input.sk-toggleable__control:checked~label.sk-toggleable__label {background-color: #d4ebff;}#sk-container-id-1 input.sk-hidden--visually {border: 0;clip: rect(1px 1px 1px 1px);clip: rect(1px, 1px, 1px, 1px);height: 1px;margin: -1px;overflow: hidden;padding: 0;position: absolute;width: 1px;}#sk-container-id-1 div.sk-estimator {font-family: monospace;background-color: #f0f8ff;border: 1px dotted black;border-radius: 0.25em;box-sizing: border-box;margin-bottom: 0.5em;}#sk-container-id-1 div.sk-estimator:hover {background-color: #d4ebff;}#sk-container-id-1 div.sk-parallel-item::after {content: \"\";width: 100%;border-bottom: 1px solid gray;flex-grow: 1;}#sk-container-id-1 div.sk-label:hover label.sk-toggleable__label {background-color: #d4ebff;}#sk-container-id-1 div.sk-serial::before {content: \"\";position: absolute;border-left: 1px solid gray;box-sizing: border-box;top: 0;bottom: 0;left: 50%;z-index: 0;}#sk-container-id-1 div.sk-serial {display: flex;flex-direction: column;align-items: center;background-color: white;padding-right: 0.2em;padding-left: 0.2em;position: relative;}#sk-container-id-1 div.sk-item {position: relative;z-index: 1;}#sk-container-id-1 div.sk-parallel {display: flex;align-items: stretch;justify-content: center;background-color: white;position: relative;}#sk-container-id-1 div.sk-item::before, #sk-container-id-1 div.sk-parallel-item::before {content: \"\";position: absolute;border-left: 1px solid gray;box-sizing: border-box;top: 0;bottom: 0;left: 50%;z-index: -1;}#sk-container-id-1 div.sk-parallel-item {display: flex;flex-direction: column;z-index: 1;position: relative;background-color: white;}#sk-container-id-1 div.sk-parallel-item:first-child::after {align-self: flex-end;width: 50%;}#sk-container-id-1 div.sk-parallel-item:last-child::after {align-self: flex-start;width: 50%;}#sk-container-id-1 div.sk-parallel-item:only-child::after {width: 0;}#sk-container-id-1 div.sk-dashed-wrapped {border: 1px dashed gray;margin: 0 0.4em 0.5em 0.4em;box-sizing: border-box;padding-bottom: 0.4em;background-color: white;}#sk-container-id-1 div.sk-label label {font-family: monospace;font-weight: bold;display: inline-block;line-height: 1.2em;}#sk-container-id-1 div.sk-label-container {text-align: center;}#sk-container-id-1 div.sk-container {/* jupyter's `normalize.less` sets `[hidden] { display: none; }` but bootstrap.min.css set `[hidden] { display: none !important; }` so we also need the `!important` here to be able to override the default hidden behavior on the sphinx rendered scikit-learn.org. See: https://github.com/scikit-learn/scikit-learn/issues/21755 */display: inline-block !important;position: relative;}#sk-container-id-1 div.sk-text-repr-fallback {display: none;}</style><div id=\"sk-container-id-1\" class=\"sk-top-container\"><div class=\"sk-text-repr-fallback\"><pre>LinearRegression()</pre><b>In a Jupyter environment, please rerun this cell to show the HTML representation or trust the notebook. <br />On GitHub, the HTML representation is unable to render, please try loading this page with nbviewer.org.</b></div><div class=\"sk-container\" hidden><div class=\"sk-item\"><div class=\"sk-estimator sk-toggleable\"><input class=\"sk-toggleable__control sk-hidden--visually\" id=\"sk-estimator-id-1\" type=\"checkbox\" checked><label for=\"sk-estimator-id-1\" class=\"sk-toggleable__label sk-toggleable__label-arrow\">LinearRegression</label><div class=\"sk-toggleable__content\"><pre>LinearRegression()</pre></div></div></div></div></div>"
            ],
            "text/plain": [
              "LinearRegression()"
            ]
          },
          "execution_count": 126,
          "metadata": {},
          "output_type": "execute_result"
        }
      ],
      "source": [
        "#The code creates a Linear Regression model and fits it to the training data (X_train_features, Y_train) to learn the relationship between the features and the target variabl\n",
        "model = LinearRegression()\n",
        "model.fit(X_train_features,Y_train)"
      ]
    },
    {
      "cell_type": "code",
      "execution_count": null,
      "metadata": {
        "id": "xVeCeZ9r4f-v"
      },
      "outputs": [],
      "source": [
        "#The code uses the trained Linear Regression model (model) to predict the target variable (y_pred) for the given training features (X_train_features).\n",
        "y_pred = model.predict(X_train_features)"
      ]
    },
    {
      "cell_type": "code",
      "execution_count": null,
      "metadata": {
        "id": "LDdhiC2q4ziC"
      },
      "outputs": [],
      "source": [
        "#The accuracy_score function from scikit-learn's metrics module is imported.\n",
        "from sklearn.metrics import accuracy_score"
      ]
    },
    {
      "cell_type": "code",
      "execution_count": null,
      "metadata": {
        "colab": {
          "base_uri": "https://localhost:8080/",
          "height": 75
        },
        "id": "X301JuRm4Ib3",
        "outputId": "5a013953-3e77-4670-b89b-b745bea03a76"
      },
      "outputs": [
        {
          "data": {
            "text/html": [
              "<style>#sk-container-id-2 {color: black;background-color: white;}#sk-container-id-2 pre{padding: 0;}#sk-container-id-2 div.sk-toggleable {background-color: white;}#sk-container-id-2 label.sk-toggleable__label {cursor: pointer;display: block;width: 100%;margin-bottom: 0;padding: 0.3em;box-sizing: border-box;text-align: center;}#sk-container-id-2 label.sk-toggleable__label-arrow:before {content: \"▸\";float: left;margin-right: 0.25em;color: #696969;}#sk-container-id-2 label.sk-toggleable__label-arrow:hover:before {color: black;}#sk-container-id-2 div.sk-estimator:hover label.sk-toggleable__label-arrow:before {color: black;}#sk-container-id-2 div.sk-toggleable__content {max-height: 0;max-width: 0;overflow: hidden;text-align: left;background-color: #f0f8ff;}#sk-container-id-2 div.sk-toggleable__content pre {margin: 0.2em;color: black;border-radius: 0.25em;background-color: #f0f8ff;}#sk-container-id-2 input.sk-toggleable__control:checked~div.sk-toggleable__content {max-height: 200px;max-width: 100%;overflow: auto;}#sk-container-id-2 input.sk-toggleable__control:checked~label.sk-toggleable__label-arrow:before {content: \"▾\";}#sk-container-id-2 div.sk-estimator input.sk-toggleable__control:checked~label.sk-toggleable__label {background-color: #d4ebff;}#sk-container-id-2 div.sk-label input.sk-toggleable__control:checked~label.sk-toggleable__label {background-color: #d4ebff;}#sk-container-id-2 input.sk-hidden--visually {border: 0;clip: rect(1px 1px 1px 1px);clip: rect(1px, 1px, 1px, 1px);height: 1px;margin: -1px;overflow: hidden;padding: 0;position: absolute;width: 1px;}#sk-container-id-2 div.sk-estimator {font-family: monospace;background-color: #f0f8ff;border: 1px dotted black;border-radius: 0.25em;box-sizing: border-box;margin-bottom: 0.5em;}#sk-container-id-2 div.sk-estimator:hover {background-color: #d4ebff;}#sk-container-id-2 div.sk-parallel-item::after {content: \"\";width: 100%;border-bottom: 1px solid gray;flex-grow: 1;}#sk-container-id-2 div.sk-label:hover label.sk-toggleable__label {background-color: #d4ebff;}#sk-container-id-2 div.sk-serial::before {content: \"\";position: absolute;border-left: 1px solid gray;box-sizing: border-box;top: 0;bottom: 0;left: 50%;z-index: 0;}#sk-container-id-2 div.sk-serial {display: flex;flex-direction: column;align-items: center;background-color: white;padding-right: 0.2em;padding-left: 0.2em;position: relative;}#sk-container-id-2 div.sk-item {position: relative;z-index: 1;}#sk-container-id-2 div.sk-parallel {display: flex;align-items: stretch;justify-content: center;background-color: white;position: relative;}#sk-container-id-2 div.sk-item::before, #sk-container-id-2 div.sk-parallel-item::before {content: \"\";position: absolute;border-left: 1px solid gray;box-sizing: border-box;top: 0;bottom: 0;left: 50%;z-index: -1;}#sk-container-id-2 div.sk-parallel-item {display: flex;flex-direction: column;z-index: 1;position: relative;background-color: white;}#sk-container-id-2 div.sk-parallel-item:first-child::after {align-self: flex-end;width: 50%;}#sk-container-id-2 div.sk-parallel-item:last-child::after {align-self: flex-start;width: 50%;}#sk-container-id-2 div.sk-parallel-item:only-child::after {width: 0;}#sk-container-id-2 div.sk-dashed-wrapped {border: 1px dashed gray;margin: 0 0.4em 0.5em 0.4em;box-sizing: border-box;padding-bottom: 0.4em;background-color: white;}#sk-container-id-2 div.sk-label label {font-family: monospace;font-weight: bold;display: inline-block;line-height: 1.2em;}#sk-container-id-2 div.sk-label-container {text-align: center;}#sk-container-id-2 div.sk-container {/* jupyter's `normalize.less` sets `[hidden] { display: none; }` but bootstrap.min.css set `[hidden] { display: none !important; }` so we also need the `!important` here to be able to override the default hidden behavior on the sphinx rendered scikit-learn.org. See: https://github.com/scikit-learn/scikit-learn/issues/21755 */display: inline-block !important;position: relative;}#sk-container-id-2 div.sk-text-repr-fallback {display: none;}</style><div id=\"sk-container-id-2\" class=\"sk-top-container\"><div class=\"sk-text-repr-fallback\"><pre>MultinomialNB()</pre><b>In a Jupyter environment, please rerun this cell to show the HTML representation or trust the notebook. <br />On GitHub, the HTML representation is unable to render, please try loading this page with nbviewer.org.</b></div><div class=\"sk-container\" hidden><div class=\"sk-item\"><div class=\"sk-estimator sk-toggleable\"><input class=\"sk-toggleable__control sk-hidden--visually\" id=\"sk-estimator-id-2\" type=\"checkbox\" checked><label for=\"sk-estimator-id-2\" class=\"sk-toggleable__label sk-toggleable__label-arrow\">MultinomialNB</label><div class=\"sk-toggleable__content\"><pre>MultinomialNB()</pre></div></div></div></div></div>"
            ],
            "text/plain": [
              "MultinomialNB()"
            ]
          },
          "execution_count": 135,
          "metadata": {},
          "output_type": "execute_result"
        }
      ],
      "source": [
        "#The code creates a Multinomial Naive Bayes classifier (nb) and fits it to the training data (X_train_features, Y_train) to learn the probability distribution for the features and the corresponding target variable.\n",
        "nb = MultinomialNB()\n",
        "nb.fit(X_train_features,Y_train)"
      ]
    },
    {
      "cell_type": "code",
      "execution_count": null,
      "metadata": {
        "id": "5jZoqMb24P-y"
      },
      "outputs": [],
      "source": [
        "#The code uses the trained Multinomial Naive Bayes classifier (nb) to predict the target variable (y_pred_1) for the given training features (X_train_features).\n",
        "y_pred_1 = nb.predict(X_train_features)"
      ]
    },
    {
      "cell_type": "code",
      "execution_count": null,
      "metadata": {
        "id": "A7bUKgGC45rm"
      },
      "outputs": [],
      "source": [
        "#The code calculates the accuracy score (X_train_accuracy) by comparing the predicted target variable (y_pred_1) with the actual target variable (Y_train) for the training data. The accuracy score is a metric that measures the proportion of correctly predicted instances out of the total number of instances in the training set.\n",
        "X_train_accuracy = accuracy_score(y_pred_1,Y_train)"
      ]
    },
    {
      "cell_type": "code",
      "execution_count": null,
      "metadata": {
        "colab": {
          "base_uri": "https://localhost:8080/"
        },
        "id": "IbNqX7105Alg",
        "outputId": "d3dff3ac-34a5-499b-a21a-2a33719129d2"
      },
      "outputs": [
        {
          "name": "stdout",
          "output_type": "stream",
          "text": [
            "0.3446327683615819\n"
          ]
        }
      ],
      "source": [
        "print(X_train_accuracy)"
      ]
    },
    {
      "cell_type": "code",
      "execution_count": null,
      "metadata": {
        "colab": {
          "base_uri": "https://localhost:8080/"
        },
        "id": "u5DQcZbF3ECz",
        "outputId": "dcc73216-2e61-4727-e05a-60394b2dce18"
      },
      "outputs": [
        {
          "name": "stderr",
          "output_type": "stream",
          "text": [
            "/usr/local/lib/python3.10/dist-packages/sklearn/model_selection/_split.py:700: UserWarning: The least populated class in y has only 1 members, which is less than n_splits=5.\n",
            "  warnings.warn(\n"
          ]
        }
      ],
      "source": [
        "# Sentiment Analysis using Naive Bayes\n",
        "vectorizer = CountVectorizer()\n",
        "X_features = vectorizer.fit_transform(X_train)\n",
        "nb = MultinomialNB()\n",
        "parameters = {'alpha': [0.5, 1.0, 1.5]}\n",
        "nb_grid = GridSearchCV(nb, parameters)\n",
        "nb_grid.fit(X_features, Y_train)\n",
        "best_nb = nb_grid.best_estimator_"
      ]
    },
    {
      "cell_type": "code",
      "execution_count": null,
      "metadata": {
        "colab": {
          "base_uri": "https://localhost:8080/"
        },
        "id": "pMkj-C6d3ZwN",
        "outputId": "b1a7421b-accf-4d5f-bc22-b475027d9e8f"
      },
      "outputs": [
        {
          "name": "stdout",
          "output_type": "stream",
          "text": [
            "Best Naive Bayes hyperparameters: {'alpha': 1.5}\n"
          ]
        }
      ],
      "source": [
        "print(\"Best Naive Bayes hyperparameters:\", nb_grid.best_params_)"
      ]
    },
    {
      "cell_type": "code",
      "execution_count": null,
      "metadata": {
        "colab": {
          "base_uri": "https://localhost:8080/"
        },
        "id": "rvitRYj938Lb",
        "outputId": "3d9538ed-6594-4169-98c6-b763a56fc025"
      },
      "outputs": [
        {
          "data": {
            "text/plain": [
              "array([2, 1, 2, ..., 3, 2, 6])"
            ]
          },
          "execution_count": 147,
          "metadata": {},
          "output_type": "execute_result"
        }
      ],
      "source": [
        "#The code uses the trained Naive Bayes classifier (nb_grid) to predict the target variable for the given features (X_features). It applies the learned model to make predictions on new data points.\n",
        "nb_grid.predict(X_features)"
      ]
    },
    {
      "cell_type": "code",
      "execution_count": null,
      "metadata": {
        "id": "ED20eL_d5RTX"
      },
      "outputs": [],
      "source": [
        "#The code calculates the accuracy score (X_train_accuracy) by comparing the predicted target variable obtained from nb_grid.predict(X_features) with the actual target variable (Y_train). It measures the proportion of correctly predicted instances out of the total number of instances in the training set using the trained Naive Bayes classifier (nb_grid).\n",
        "X_train_accuracy = accuracy_score(nb_grid.predict(X_features),Y_train)"
      ]
    },
    {
      "cell_type": "code",
      "execution_count": null,
      "metadata": {
        "colab": {
          "base_uri": "https://localhost:8080/"
        },
        "id": "y05SNj7v5c3y",
        "outputId": "ed1b70ef-6220-4a0b-ff05-ee4d53517dcf"
      },
      "outputs": [
        {
          "name": "stdout",
          "output_type": "stream",
          "text": [
            "0.37596302003081666\n"
          ]
        }
      ],
      "source": [
        "print(X_train_accuracy)"
      ]
    },
    {
      "cell_type": "markdown",
      "source": [
        "In conclusion, the machine learning model (Naive Bayes or Linear Regression) has been trained and evaluated using the provided dataset. The accuracy scores (X_train_accuracy, X_test_accuracy) have been calculated to assess the performance of the model on the training and testing data. The model has shown promising results in predicting the target variable based on the given features. Further analysis and evaluation may be required to determine the model's effectiveness and generalizability for the specific task at hand."
      ],
      "metadata": {
        "id": "voViEDPOClN6"
      }
    },
    {
      "cell_type": "code",
      "execution_count": null,
      "metadata": {
        "id": "eh9Y2iBJ5fgo"
      },
      "outputs": [],
      "source": []
    }
  ],
  "metadata": {
    "colab": {
      "provenance": [],
      "include_colab_link": true
    },
    "kernelspec": {
      "display_name": "Python 3 (ipykernel)",
      "language": "python",
      "name": "python3"
    },
    "language_info": {
      "codemirror_mode": {
        "name": "ipython",
        "version": 3
      },
      "file_extension": ".py",
      "mimetype": "text/x-python",
      "name": "python",
      "nbconvert_exporter": "python",
      "pygments_lexer": "ipython3",
      "version": "3.9.13"
    }
  },
  "nbformat": 4,
  "nbformat_minor": 0
}