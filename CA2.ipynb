{
  "cells": [
    {
      "cell_type": "markdown",
      "metadata": {
        "id": "view-in-github",
        "colab_type": "text"
      },
      "source": [
        "<a href=\"https://colab.research.google.com/github/sbs23096/sbs23096_Analysis_of_Irelands_Construction_Sector/blob/main/CA2.ipynb\" target=\"_parent\"><img src=\"https://colab.research.google.com/assets/colab-badge.svg\" alt=\"Open In Colab\"/></a>"
      ]
    },
    {
      "cell_type": "markdown",
      "metadata": {
        "id": "sl8NyRbZWtMP"
      },
      "source": [
        "Importing the libraries"
      ]
    },
    {
      "cell_type": "code",
      "execution_count": 2,
      "metadata": {
        "id": "7ERisMD3mpbd"
      },
      "outputs": [],
      "source": [
        "import pandas as pd #to read the csv files and the files to create a DataFrame\n",
        "import numpy as np #used for numerical computation\n",
        "import matplotlib.pyplot as plt #To visualize \n",
        "import scipy.stats as stats\n",
        "import seaborn as sns #used for visualization"
      ]
    },
    {
      "cell_type": "code",
      "source": [
        "#Import Data set\n",
        "# Read the CSV file into a pandas DataFrame\n",
        "df_1=pd.read_csv(\"https://opendata.housing.gov.ie/dataset/f804e6ae-cd1d-4eed-bd59-e454c1dd4e58/resource/4e1f63c4-f4ba-43f3-8db6-636b76a146d4/download/social_housing_construction_status_report_q2_2020.csv\")\n",
        "df_2 = pd.read_csv(\"https://opendata.housing.gov.ie/dataset/d9e58b11-8ee5-45cb-b4d8-cf0add63f2e9/resource/bb62b38b-0025-462b-8335-922e0f5e3322/download/social_housing_construction_status_report_q3_2020.csv\")\n",
        "df_3 = pd.read_csv(\"https://opendata.housing.gov.ie/dataset/d3fb01d5-df2e-4f5f-b968-e6b1febb047f/resource/7527707b-8378-423c-8323-ec8710eca505/download/social_housing_construction_status_report_q4_2020.csv\")\n",
        "# Read the JSON data into a pandas DataFrame\n",
        "df_4 = pd.read_json(\"https://opendata.housing.gov.ie/dataset/cdbb216a-989c-44e1-b6d0-716f18ac27a9/resource/baf9bc22-cecf-4596-9400-699d79b233b2/download/social_housing_construction_status_report_q1_2021.json\")"
      ],
      "metadata": {
        "id": "ximvYQ3qCK8k"
      },
      "execution_count": 5,
      "outputs": []
    },
    {
      "cell_type": "code",
      "source": [
        "final_data = pd.concat([df_1,df_2,df_3,df_4],ignore_index=True)"
      ],
      "metadata": {
        "id": "5Rw0EEYuC9l8"
      },
      "execution_count": 6,
      "outputs": []
    },
    {
      "cell_type": "code",
      "source": [
        "final_data.head()"
      ],
      "metadata": {
        "colab": {
          "base_uri": "https://localhost:8080/",
          "height": 458
        },
        "id": "zH23u9mNDAJp",
        "outputId": "e973584b-5e6b-46cc-b1fb-787a4e677e8c"
      },
      "execution_count": 7,
      "outputs": [
        {
          "output_type": "execute_result",
          "data": {
            "text/plain": [
              "    No          Funding Programme      LA               Scheme/Project Name  \\\n",
              "0  1.0  SHIP CONSTRUCTION TURNKEY  Carlow  Carrigbrook, Tullow Road, Carlow   \n",
              "1  2.0  SHIP CONSTRUCTION TURNKEY  Carlow  Carrigbrook, Tullow Road, Carlow   \n",
              "2  3.0  SHIP CONSTRUCTION TURNKEY  Carlow  Carrigbrook, Tullow Road, Carlow   \n",
              "3  4.0  SHIP CONSTRUCTION TURNKEY  Carlow  Carrigbrook, Tullow Road, Carlow   \n",
              "4  5.0  SHIP CONSTRUCTION TURNKEY  Carlow  Carrigbrook, Tullow Road, Carlow   \n",
              "\n",
              "   No_ of Units Approved Housing Body Stage 1 Capital Appraisal  \\\n",
              "0             6                  *N/A                       NaN   \n",
              "1             6                  *N/A                       NaN   \n",
              "2             8                  *N/A                       NaN   \n",
              "3            12                  *N/A                       NaN   \n",
              "4            12                  *N/A                       NaN   \n",
              "\n",
              "  Stage 2 Pre Planning Stage 3 Pre Tender design  \\\n",
              "0                  NaN                       NaN   \n",
              "1                  NaN                       NaN   \n",
              "2                  NaN                       NaN   \n",
              "3                  NaN                       NaN   \n",
              "4                  NaN                       NaN   \n",
              "\n",
              "  Stage 4 Tender Report or Final Turnkey/CALF approval  On Site Completed  No_  \n",
              "0                                                NaN        NaN   Q3-2019  NaN  \n",
              "1                                                NaN        NaN   Q3-2019  NaN  \n",
              "2                                                NaN    Q4-2017       NaN  NaN  \n",
              "3                                                NaN    Q4-2017       NaN  NaN  \n",
              "4                                                NaN    Q4-2017       NaN  NaN  "
            ],
            "text/html": [
              "\n",
              "  <div id=\"df-5c4061e0-f36a-4a45-861d-62e0f9af535e\">\n",
              "    <div class=\"colab-df-container\">\n",
              "      <div>\n",
              "<style scoped>\n",
              "    .dataframe tbody tr th:only-of-type {\n",
              "        vertical-align: middle;\n",
              "    }\n",
              "\n",
              "    .dataframe tbody tr th {\n",
              "        vertical-align: top;\n",
              "    }\n",
              "\n",
              "    .dataframe thead th {\n",
              "        text-align: right;\n",
              "    }\n",
              "</style>\n",
              "<table border=\"1\" class=\"dataframe\">\n",
              "  <thead>\n",
              "    <tr style=\"text-align: right;\">\n",
              "      <th></th>\n",
              "      <th>No</th>\n",
              "      <th>Funding Programme</th>\n",
              "      <th>LA</th>\n",
              "      <th>Scheme/Project Name</th>\n",
              "      <th>No_ of Units</th>\n",
              "      <th>Approved Housing Body</th>\n",
              "      <th>Stage 1 Capital Appraisal</th>\n",
              "      <th>Stage 2 Pre Planning</th>\n",
              "      <th>Stage 3 Pre Tender design</th>\n",
              "      <th>Stage 4 Tender Report or Final Turnkey/CALF approval</th>\n",
              "      <th>On Site</th>\n",
              "      <th>Completed</th>\n",
              "      <th>No_</th>\n",
              "    </tr>\n",
              "  </thead>\n",
              "  <tbody>\n",
              "    <tr>\n",
              "      <th>0</th>\n",
              "      <td>1.0</td>\n",
              "      <td>SHIP CONSTRUCTION TURNKEY</td>\n",
              "      <td>Carlow</td>\n",
              "      <td>Carrigbrook, Tullow Road, Carlow</td>\n",
              "      <td>6</td>\n",
              "      <td>*N/A</td>\n",
              "      <td>NaN</td>\n",
              "      <td>NaN</td>\n",
              "      <td>NaN</td>\n",
              "      <td>NaN</td>\n",
              "      <td>NaN</td>\n",
              "      <td>Q3-2019</td>\n",
              "      <td>NaN</td>\n",
              "    </tr>\n",
              "    <tr>\n",
              "      <th>1</th>\n",
              "      <td>2.0</td>\n",
              "      <td>SHIP CONSTRUCTION TURNKEY</td>\n",
              "      <td>Carlow</td>\n",
              "      <td>Carrigbrook, Tullow Road, Carlow</td>\n",
              "      <td>6</td>\n",
              "      <td>*N/A</td>\n",
              "      <td>NaN</td>\n",
              "      <td>NaN</td>\n",
              "      <td>NaN</td>\n",
              "      <td>NaN</td>\n",
              "      <td>NaN</td>\n",
              "      <td>Q3-2019</td>\n",
              "      <td>NaN</td>\n",
              "    </tr>\n",
              "    <tr>\n",
              "      <th>2</th>\n",
              "      <td>3.0</td>\n",
              "      <td>SHIP CONSTRUCTION TURNKEY</td>\n",
              "      <td>Carlow</td>\n",
              "      <td>Carrigbrook, Tullow Road, Carlow</td>\n",
              "      <td>8</td>\n",
              "      <td>*N/A</td>\n",
              "      <td>NaN</td>\n",
              "      <td>NaN</td>\n",
              "      <td>NaN</td>\n",
              "      <td>NaN</td>\n",
              "      <td>Q4-2017</td>\n",
              "      <td>NaN</td>\n",
              "      <td>NaN</td>\n",
              "    </tr>\n",
              "    <tr>\n",
              "      <th>3</th>\n",
              "      <td>4.0</td>\n",
              "      <td>SHIP CONSTRUCTION TURNKEY</td>\n",
              "      <td>Carlow</td>\n",
              "      <td>Carrigbrook, Tullow Road, Carlow</td>\n",
              "      <td>12</td>\n",
              "      <td>*N/A</td>\n",
              "      <td>NaN</td>\n",
              "      <td>NaN</td>\n",
              "      <td>NaN</td>\n",
              "      <td>NaN</td>\n",
              "      <td>Q4-2017</td>\n",
              "      <td>NaN</td>\n",
              "      <td>NaN</td>\n",
              "    </tr>\n",
              "    <tr>\n",
              "      <th>4</th>\n",
              "      <td>5.0</td>\n",
              "      <td>SHIP CONSTRUCTION TURNKEY</td>\n",
              "      <td>Carlow</td>\n",
              "      <td>Carrigbrook, Tullow Road, Carlow</td>\n",
              "      <td>12</td>\n",
              "      <td>*N/A</td>\n",
              "      <td>NaN</td>\n",
              "      <td>NaN</td>\n",
              "      <td>NaN</td>\n",
              "      <td>NaN</td>\n",
              "      <td>Q4-2017</td>\n",
              "      <td>NaN</td>\n",
              "      <td>NaN</td>\n",
              "    </tr>\n",
              "  </tbody>\n",
              "</table>\n",
              "</div>\n",
              "      <button class=\"colab-df-convert\" onclick=\"convertToInteractive('df-5c4061e0-f36a-4a45-861d-62e0f9af535e')\"\n",
              "              title=\"Convert this dataframe to an interactive table.\"\n",
              "              style=\"display:none;\">\n",
              "        \n",
              "  <svg xmlns=\"http://www.w3.org/2000/svg\" height=\"24px\"viewBox=\"0 0 24 24\"\n",
              "       width=\"24px\">\n",
              "    <path d=\"M0 0h24v24H0V0z\" fill=\"none\"/>\n",
              "    <path d=\"M18.56 5.44l.94 2.06.94-2.06 2.06-.94-2.06-.94-.94-2.06-.94 2.06-2.06.94zm-11 1L8.5 8.5l.94-2.06 2.06-.94-2.06-.94L8.5 2.5l-.94 2.06-2.06.94zm10 10l.94 2.06.94-2.06 2.06-.94-2.06-.94-.94-2.06-.94 2.06-2.06.94z\"/><path d=\"M17.41 7.96l-1.37-1.37c-.4-.4-.92-.59-1.43-.59-.52 0-1.04.2-1.43.59L10.3 9.45l-7.72 7.72c-.78.78-.78 2.05 0 2.83L4 21.41c.39.39.9.59 1.41.59.51 0 1.02-.2 1.41-.59l7.78-7.78 2.81-2.81c.8-.78.8-2.07 0-2.86zM5.41 20L4 18.59l7.72-7.72 1.47 1.35L5.41 20z\"/>\n",
              "  </svg>\n",
              "      </button>\n",
              "      \n",
              "  <style>\n",
              "    .colab-df-container {\n",
              "      display:flex;\n",
              "      flex-wrap:wrap;\n",
              "      gap: 12px;\n",
              "    }\n",
              "\n",
              "    .colab-df-convert {\n",
              "      background-color: #E8F0FE;\n",
              "      border: none;\n",
              "      border-radius: 50%;\n",
              "      cursor: pointer;\n",
              "      display: none;\n",
              "      fill: #1967D2;\n",
              "      height: 32px;\n",
              "      padding: 0 0 0 0;\n",
              "      width: 32px;\n",
              "    }\n",
              "\n",
              "    .colab-df-convert:hover {\n",
              "      background-color: #E2EBFA;\n",
              "      box-shadow: 0px 1px 2px rgba(60, 64, 67, 0.3), 0px 1px 3px 1px rgba(60, 64, 67, 0.15);\n",
              "      fill: #174EA6;\n",
              "    }\n",
              "\n",
              "    [theme=dark] .colab-df-convert {\n",
              "      background-color: #3B4455;\n",
              "      fill: #D2E3FC;\n",
              "    }\n",
              "\n",
              "    [theme=dark] .colab-df-convert:hover {\n",
              "      background-color: #434B5C;\n",
              "      box-shadow: 0px 1px 3px 1px rgba(0, 0, 0, 0.15);\n",
              "      filter: drop-shadow(0px 1px 2px rgba(0, 0, 0, 0.3));\n",
              "      fill: #FFFFFF;\n",
              "    }\n",
              "  </style>\n",
              "\n",
              "      <script>\n",
              "        const buttonEl =\n",
              "          document.querySelector('#df-5c4061e0-f36a-4a45-861d-62e0f9af535e button.colab-df-convert');\n",
              "        buttonEl.style.display =\n",
              "          google.colab.kernel.accessAllowed ? 'block' : 'none';\n",
              "\n",
              "        async function convertToInteractive(key) {\n",
              "          const element = document.querySelector('#df-5c4061e0-f36a-4a45-861d-62e0f9af535e');\n",
              "          const dataTable =\n",
              "            await google.colab.kernel.invokeFunction('convertToInteractive',\n",
              "                                                     [key], {});\n",
              "          if (!dataTable) return;\n",
              "\n",
              "          const docLinkHtml = 'Like what you see? Visit the ' +\n",
              "            '<a target=\"_blank\" href=https://colab.research.google.com/notebooks/data_table.ipynb>data table notebook</a>'\n",
              "            + ' to learn more about interactive tables.';\n",
              "          element.innerHTML = '';\n",
              "          dataTable['output_type'] = 'display_data';\n",
              "          await google.colab.output.renderOutput(dataTable, element);\n",
              "          const docLink = document.createElement('div');\n",
              "          docLink.innerHTML = docLinkHtml;\n",
              "          element.appendChild(docLink);\n",
              "        }\n",
              "      </script>\n",
              "    </div>\n",
              "  </div>\n",
              "  "
            ]
          },
          "metadata": {},
          "execution_count": 7
        }
      ]
    },
    {
      "cell_type": "code",
      "source": [
        "final_data.columns #shows the no of columns"
      ],
      "metadata": {
        "colab": {
          "base_uri": "https://localhost:8080/"
        },
        "id": "tUgq7WXTDMst",
        "outputId": "e4463f98-5309-4b3e-a699-1e19085b329c"
      },
      "execution_count": 8,
      "outputs": [
        {
          "output_type": "execute_result",
          "data": {
            "text/plain": [
              "Index(['No', 'Funding Programme', 'LA', 'Scheme/Project Name', 'No_ of Units',\n",
              "       'Approved Housing Body', 'Stage 1 Capital Appraisal',\n",
              "       'Stage 2 Pre Planning', 'Stage 3 Pre Tender design',\n",
              "       'Stage 4 Tender Report or Final Turnkey/CALF approval', 'On Site',\n",
              "       'Completed', 'No_'],\n",
              "      dtype='object')"
            ]
          },
          "metadata": {},
          "execution_count": 8
        }
      ]
    },
    {
      "cell_type": "code",
      "source": [
        "final_data.shape #shows the shape of data how many rows and columns are present"
      ],
      "metadata": {
        "colab": {
          "base_uri": "https://localhost:8080/"
        },
        "id": "YsSkII2QDQVW",
        "outputId": "3f1febc6-3209-4364-bdde-373a407d5017"
      },
      "execution_count": 9,
      "outputs": [
        {
          "output_type": "execute_result",
          "data": {
            "text/plain": [
              "(9254, 13)"
            ]
          },
          "metadata": {},
          "execution_count": 9
        }
      ]
    },
    {
      "cell_type": "code",
      "source": [
        "final_data.isnull().sum() #check how many null values in the data"
      ],
      "metadata": {
        "colab": {
          "base_uri": "https://localhost:8080/"
        },
        "id": "KeC4KVfcDS9Y",
        "outputId": "c43c4142-b964-44e2-dc54-5a3a7de5f9e5"
      },
      "execution_count": 10,
      "outputs": [
        {
          "output_type": "execute_result",
          "data": {
            "text/plain": [
              "No                                                      7100\n",
              "Funding Programme                                          0\n",
              "LA                                                         0\n",
              "Scheme/Project Name                                        0\n",
              "No_ of Units                                               0\n",
              "Approved Housing Body                                      0\n",
              "Stage 1 Capital Appraisal                               6428\n",
              "Stage 2 Pre Planning                                    6469\n",
              "Stage 3 Pre Tender design                               6648\n",
              "Stage 4 Tender Report or Final Turnkey/CALF approval    6206\n",
              "On Site                                                 5319\n",
              "Completed                                               3030\n",
              "No_                                                     2154\n",
              "dtype: int64"
            ]
          },
          "metadata": {},
          "execution_count": 10
        }
      ]
    },
    {
      "cell_type": "code",
      "source": [
        "final_data.dropna() #to drop all the null values"
      ],
      "metadata": {
        "id": "9YuBPmVNEZXp",
        "colab": {
          "base_uri": "https://localhost:8080/",
          "height": 128
        },
        "outputId": "709a7eaa-a262-4702-9325-80b122486059"
      },
      "execution_count": 11,
      "outputs": [
        {
          "output_type": "execute_result",
          "data": {
            "text/plain": [
              "Empty DataFrame\n",
              "Columns: [No, Funding Programme, LA, Scheme/Project Name, No_ of Units, Approved Housing Body, Stage 1 Capital Appraisal, Stage 2 Pre Planning, Stage 3 Pre Tender design, Stage 4 Tender Report or Final Turnkey/CALF approval, On Site, Completed, No_]\n",
              "Index: []"
            ],
            "text/html": [
              "\n",
              "  <div id=\"df-77855c44-592c-41e3-8215-71cd48be2b64\">\n",
              "    <div class=\"colab-df-container\">\n",
              "      <div>\n",
              "<style scoped>\n",
              "    .dataframe tbody tr th:only-of-type {\n",
              "        vertical-align: middle;\n",
              "    }\n",
              "\n",
              "    .dataframe tbody tr th {\n",
              "        vertical-align: top;\n",
              "    }\n",
              "\n",
              "    .dataframe thead th {\n",
              "        text-align: right;\n",
              "    }\n",
              "</style>\n",
              "<table border=\"1\" class=\"dataframe\">\n",
              "  <thead>\n",
              "    <tr style=\"text-align: right;\">\n",
              "      <th></th>\n",
              "      <th>No</th>\n",
              "      <th>Funding Programme</th>\n",
              "      <th>LA</th>\n",
              "      <th>Scheme/Project Name</th>\n",
              "      <th>No_ of Units</th>\n",
              "      <th>Approved Housing Body</th>\n",
              "      <th>Stage 1 Capital Appraisal</th>\n",
              "      <th>Stage 2 Pre Planning</th>\n",
              "      <th>Stage 3 Pre Tender design</th>\n",
              "      <th>Stage 4 Tender Report or Final Turnkey/CALF approval</th>\n",
              "      <th>On Site</th>\n",
              "      <th>Completed</th>\n",
              "      <th>No_</th>\n",
              "    </tr>\n",
              "  </thead>\n",
              "  <tbody>\n",
              "  </tbody>\n",
              "</table>\n",
              "</div>\n",
              "      <button class=\"colab-df-convert\" onclick=\"convertToInteractive('df-77855c44-592c-41e3-8215-71cd48be2b64')\"\n",
              "              title=\"Convert this dataframe to an interactive table.\"\n",
              "              style=\"display:none;\">\n",
              "        \n",
              "  <svg xmlns=\"http://www.w3.org/2000/svg\" height=\"24px\"viewBox=\"0 0 24 24\"\n",
              "       width=\"24px\">\n",
              "    <path d=\"M0 0h24v24H0V0z\" fill=\"none\"/>\n",
              "    <path d=\"M18.56 5.44l.94 2.06.94-2.06 2.06-.94-2.06-.94-.94-2.06-.94 2.06-2.06.94zm-11 1L8.5 8.5l.94-2.06 2.06-.94-2.06-.94L8.5 2.5l-.94 2.06-2.06.94zm10 10l.94 2.06.94-2.06 2.06-.94-2.06-.94-.94-2.06-.94 2.06-2.06.94z\"/><path d=\"M17.41 7.96l-1.37-1.37c-.4-.4-.92-.59-1.43-.59-.52 0-1.04.2-1.43.59L10.3 9.45l-7.72 7.72c-.78.78-.78 2.05 0 2.83L4 21.41c.39.39.9.59 1.41.59.51 0 1.02-.2 1.41-.59l7.78-7.78 2.81-2.81c.8-.78.8-2.07 0-2.86zM5.41 20L4 18.59l7.72-7.72 1.47 1.35L5.41 20z\"/>\n",
              "  </svg>\n",
              "      </button>\n",
              "      \n",
              "  <style>\n",
              "    .colab-df-container {\n",
              "      display:flex;\n",
              "      flex-wrap:wrap;\n",
              "      gap: 12px;\n",
              "    }\n",
              "\n",
              "    .colab-df-convert {\n",
              "      background-color: #E8F0FE;\n",
              "      border: none;\n",
              "      border-radius: 50%;\n",
              "      cursor: pointer;\n",
              "      display: none;\n",
              "      fill: #1967D2;\n",
              "      height: 32px;\n",
              "      padding: 0 0 0 0;\n",
              "      width: 32px;\n",
              "    }\n",
              "\n",
              "    .colab-df-convert:hover {\n",
              "      background-color: #E2EBFA;\n",
              "      box-shadow: 0px 1px 2px rgba(60, 64, 67, 0.3), 0px 1px 3px 1px rgba(60, 64, 67, 0.15);\n",
              "      fill: #174EA6;\n",
              "    }\n",
              "\n",
              "    [theme=dark] .colab-df-convert {\n",
              "      background-color: #3B4455;\n",
              "      fill: #D2E3FC;\n",
              "    }\n",
              "\n",
              "    [theme=dark] .colab-df-convert:hover {\n",
              "      background-color: #434B5C;\n",
              "      box-shadow: 0px 1px 3px 1px rgba(0, 0, 0, 0.15);\n",
              "      filter: drop-shadow(0px 1px 2px rgba(0, 0, 0, 0.3));\n",
              "      fill: #FFFFFF;\n",
              "    }\n",
              "  </style>\n",
              "\n",
              "      <script>\n",
              "        const buttonEl =\n",
              "          document.querySelector('#df-77855c44-592c-41e3-8215-71cd48be2b64 button.colab-df-convert');\n",
              "        buttonEl.style.display =\n",
              "          google.colab.kernel.accessAllowed ? 'block' : 'none';\n",
              "\n",
              "        async function convertToInteractive(key) {\n",
              "          const element = document.querySelector('#df-77855c44-592c-41e3-8215-71cd48be2b64');\n",
              "          const dataTable =\n",
              "            await google.colab.kernel.invokeFunction('convertToInteractive',\n",
              "                                                     [key], {});\n",
              "          if (!dataTable) return;\n",
              "\n",
              "          const docLinkHtml = 'Like what you see? Visit the ' +\n",
              "            '<a target=\"_blank\" href=https://colab.research.google.com/notebooks/data_table.ipynb>data table notebook</a>'\n",
              "            + ' to learn more about interactive tables.';\n",
              "          element.innerHTML = '';\n",
              "          dataTable['output_type'] = 'display_data';\n",
              "          await google.colab.output.renderOutput(dataTable, element);\n",
              "          const docLink = document.createElement('div');\n",
              "          docLink.innerHTML = docLinkHtml;\n",
              "          element.appendChild(docLink);\n",
              "        }\n",
              "      </script>\n",
              "    </div>\n",
              "  </div>\n",
              "  "
            ]
          },
          "metadata": {},
          "execution_count": 11
        }
      ]
    },
    {
      "cell_type": "code",
      "source": [
        "final_data[\"Scheme/Project Name\"].value_counts() #count the values in the specific column"
      ],
      "metadata": {
        "colab": {
          "base_uri": "https://localhost:8080/"
        },
        "id": "XygtNbGwGW52",
        "outputId": "7da306b3-af45-477b-92fe-e6f9877e2c8a"
      },
      "execution_count": 12,
      "outputs": [
        {
          "output_type": "execute_result",
          "data": {
            "text/plain": [
              "Carrigbrook, Tullow Road, Carlow                            24\n",
              "Mill Race Park, Drumlish                                    23\n",
              "Heatherside, Vale Road, Arklow                              20\n",
              "Kylebroughlan, Moycullen                                    20\n",
              "Racecourse Commons, Lusk                                    20\n",
              "                                                            ..\n",
              "1 & 2 Druminshingore, Newtowngore                            1\n",
              "Kilmoney, Carrigaline, Co. Cork                              1\n",
              "5 Bridgegate Drive, Bridgegate, Ardee, Co. Louth             1\n",
              "O'Loughlin Court, Kilkenny  (Phase 1)                        1\n",
              "Sessile Oaks, Ballyguile, Wicklow, Co. Wicklow (Phase 3)     1\n",
              "Name: Scheme/Project Name, Length: 2620, dtype: int64"
            ]
          },
          "metadata": {},
          "execution_count": 12
        }
      ]
    },
    {
      "cell_type": "code",
      "source": [
        "final_data.isnull().sum()"
      ],
      "metadata": {
        "colab": {
          "base_uri": "https://localhost:8080/"
        },
        "id": "eWzevamnEl80",
        "outputId": "f7970627-dc1b-47c0-9621-13437e466c13"
      },
      "execution_count": 13,
      "outputs": [
        {
          "output_type": "execute_result",
          "data": {
            "text/plain": [
              "No                                                      7100\n",
              "Funding Programme                                          0\n",
              "LA                                                         0\n",
              "Scheme/Project Name                                        0\n",
              "No_ of Units                                               0\n",
              "Approved Housing Body                                      0\n",
              "Stage 1 Capital Appraisal                               6428\n",
              "Stage 2 Pre Planning                                    6469\n",
              "Stage 3 Pre Tender design                               6648\n",
              "Stage 4 Tender Report or Final Turnkey/CALF approval    6206\n",
              "On Site                                                 5319\n",
              "Completed                                               3030\n",
              "No_                                                     2154\n",
              "dtype: int64"
            ]
          },
          "metadata": {},
          "execution_count": 13
        }
      ]
    },
    {
      "cell_type": "code",
      "source": [
        "final_data[\"Completed\"].value_counts()#count the values in the specific column"
      ],
      "metadata": {
        "colab": {
          "base_uri": "https://localhost:8080/"
        },
        "id": "oLGjosqSOWJC",
        "outputId": "7c23e124-bc71-47ff-9f96-7b82af0674f3"
      },
      "execution_count": 14,
      "outputs": [
        {
          "output_type": "execute_result",
          "data": {
            "text/plain": [
              "Q4-2019    1148\n",
              "            935\n",
              "Q4-2018     796\n",
              "Q4-2020     477\n",
              "Q3-2019     300\n",
              "Q4-2017     292\n",
              "Q3-2018     276\n",
              "Q2-2019     268\n",
              "Q3-2020     231\n",
              "Q2-2018     224\n",
              "Q1-2018     188\n",
              "Q2-2020     175\n",
              "Q1-2019     168\n",
              "Q3-2017     124\n",
              "Q2-2017     124\n",
              "Q4-2016     119\n",
              "Q1-2017     104\n",
              "Q2-2016      80\n",
              "Q1-2020      68\n",
              "Q3-2016      56\n",
              "Q1-2021      51\n",
              "Q1-2016      20\n",
              "Name: Completed, dtype: int64"
            ]
          },
          "metadata": {},
          "execution_count": 14
        }
      ]
    },
    {
      "cell_type": "code",
      "source": [
        "final_data[\"Approved Housing Body\"].value_counts() #count the values in the specific column"
      ],
      "metadata": {
        "colab": {
          "base_uri": "https://localhost:8080/"
        },
        "id": "m4sbUvNcGy2l",
        "outputId": "f1aee03a-2928-494b-8d3e-7338bd1ed185"
      },
      "execution_count": 15,
      "outputs": [
        {
          "output_type": "execute_result",
          "data": {
            "text/plain": [
              "*N/A                                               5324\n",
              "Cluid Housing                                       845\n",
              "T�ath Housing Association                           683\n",
              "Respond                                             428\n",
              "Co - Operative Housing Ireland Society Limited      407\n",
              "                                                   ... \n",
              "Ark Housing Association Limited                       2\n",
              "Foscadh Housing Association Ltd                       1\n",
              "Kingdom Voluntary Housing Association                 1\n",
              "DePaul Housing                                        1\n",
              "SPADE � St. Patrick�s Dwellings for the Elderly       1\n",
              "Name: Approved Housing Body, Length: 93, dtype: int64"
            ]
          },
          "metadata": {},
          "execution_count": 15
        }
      ]
    },
    {
      "cell_type": "code",
      "source": [
        "final_data[\"No_ of Units\"].value_counts() #count the values in the specific column"
      ],
      "metadata": {
        "colab": {
          "base_uri": "https://localhost:8080/"
        },
        "id": "L-ZzME8NGmKu",
        "outputId": "f0213c46-51a7-4257-acd5-6965c0a096ed"
      },
      "execution_count": 16,
      "outputs": [
        {
          "output_type": "execute_result",
          "data": {
            "text/plain": [
              "4      842\n",
              "2      762\n",
              "1      685\n",
              "6      612\n",
              "8      494\n",
              "      ... \n",
              "95       2\n",
              "76       1\n",
              "200      1\n",
              "156      1\n",
              "94       1\n",
              "Name: No_ of Units, Length: 100, dtype: int64"
            ]
          },
          "metadata": {},
          "execution_count": 16
        }
      ]
    },
    {
      "cell_type": "code",
      "source": [
        "final_data[\"LA\"].value_counts() #count the values in the specific column"
      ],
      "metadata": {
        "colab": {
          "base_uri": "https://localhost:8080/"
        },
        "id": "GOzbaZPCGPIq",
        "outputId": "5e3be181-7799-4991-a42a-75cb76c85032"
      },
      "execution_count": 17,
      "outputs": [
        {
          "output_type": "execute_result",
          "data": {
            "text/plain": [
              "Cork County      762\n",
              "Louth            663\n",
              "Dublin City      522\n",
              "Kildare          510\n",
              "Meath            509\n",
              "Cork City        438\n",
              "Fingal           436\n",
              "Limerick         420\n",
              "Wexford          378\n",
              "South Dublin     375\n",
              "Wicklow          345\n",
              "Kerry            337\n",
              "Kilkenny         278\n",
              "Galway County    275\n",
              "Tipperary        267\n",
              "DLR              248\n",
              "Mayo             236\n",
              "Carlow           225\n",
              "Laois            220\n",
              "Donegal          205\n",
              "Westmeath        202\n",
              "Waterford        195\n",
              "Galway City      184\n",
              "Clare            180\n",
              "Monaghan         178\n",
              "Longford         169\n",
              "Cavan            158\n",
              "Offaly           123\n",
              "Roscommon         77\n",
              "Sligo             71\n",
              "Leitrim           68\n",
              "Name: LA, dtype: int64"
            ]
          },
          "metadata": {},
          "execution_count": 17
        }
      ]
    },
    {
      "cell_type": "code",
      "source": [
        "final_data[\"Funding Programme\"].value_counts() #count the values in the specific column"
      ],
      "metadata": {
        "colab": {
          "base_uri": "https://localhost:8080/"
        },
        "id": "D2P6v_x6Eo5x",
        "outputId": "33b0487f-eac1-4e59-bbda-cf0cbea3d49b"
      },
      "execution_count": 18,
      "outputs": [
        {
          "output_type": "execute_result",
          "data": {
            "text/plain": [
              "SHIP CONSTRUCTION                        2450\n",
              "CALF Turnkey                             2237\n",
              "SHIP CONSTRUCTION TURNKEY                2093\n",
              "CALF TURNKEY                              733\n",
              "CAS CONSTRUCTION                          634\n",
              "REGENERATION                              215\n",
              "SHIP CONSTRUCTION SINGLE STAGE            202\n",
              "CALF Construction                         164\n",
              "SHIP CONSTRUCTION RAPID                   157\n",
              "CAS CONSTRUCTION TURNKEY                   90\n",
              "SHIP DIALOG                                75\n",
              "SHIP CONSTRUCTION RAPID VOLUMETRIC         71\n",
              "CALF CONSTRUCTION                          54\n",
              "PUBLIC PRIVATE PARTNERSHIP (Bundle 2)      32\n",
              "PUBLIC PRIVATE PARTNERSHIP (Bundle 1)      32\n",
              "CAS CONSTRUCTION SINGLE STAGE              15\n",
              "Name: Funding Programme, dtype: int64"
            ]
          },
          "metadata": {},
          "execution_count": 18
        }
      ]
    },
    {
      "cell_type": "markdown",
      "source": [
        "**Descriptive** Statics"
      ],
      "metadata": {
        "id": "75esbZz6G6JQ"
      }
    },
    {
      "cell_type": "code",
      "source": [
        "final_data.describe() #statistical data of dataset"
      ],
      "metadata": {
        "colab": {
          "base_uri": "https://localhost:8080/",
          "height": 300
        },
        "id": "ZAYV7IxMHIsP",
        "outputId": "b69c84d9-3653-4380-feab-429bb2383565"
      },
      "execution_count": 19,
      "outputs": [
        {
          "output_type": "execute_result",
          "data": {
            "text/plain": [
              "                No  No_ of Units          No_\n",
              "count  2154.000000   9254.000000  7100.000000\n",
              "mean   1077.500000     14.047763  1184.664366\n",
              "std     621.950561     16.377131   684.673885\n",
              "min       1.000000      1.000000     1.000000\n",
              "25%     539.250000      4.000000   592.000000\n",
              "50%    1077.500000      9.000000  1184.000000\n",
              "75%    1615.750000     18.000000  1775.250000\n",
              "max    2154.000000    200.000000  2434.000000"
            ],
            "text/html": [
              "\n",
              "  <div id=\"df-5a8592e2-dc03-497e-8c1b-396f1998d948\">\n",
              "    <div class=\"colab-df-container\">\n",
              "      <div>\n",
              "<style scoped>\n",
              "    .dataframe tbody tr th:only-of-type {\n",
              "        vertical-align: middle;\n",
              "    }\n",
              "\n",
              "    .dataframe tbody tr th {\n",
              "        vertical-align: top;\n",
              "    }\n",
              "\n",
              "    .dataframe thead th {\n",
              "        text-align: right;\n",
              "    }\n",
              "</style>\n",
              "<table border=\"1\" class=\"dataframe\">\n",
              "  <thead>\n",
              "    <tr style=\"text-align: right;\">\n",
              "      <th></th>\n",
              "      <th>No</th>\n",
              "      <th>No_ of Units</th>\n",
              "      <th>No_</th>\n",
              "    </tr>\n",
              "  </thead>\n",
              "  <tbody>\n",
              "    <tr>\n",
              "      <th>count</th>\n",
              "      <td>2154.000000</td>\n",
              "      <td>9254.000000</td>\n",
              "      <td>7100.000000</td>\n",
              "    </tr>\n",
              "    <tr>\n",
              "      <th>mean</th>\n",
              "      <td>1077.500000</td>\n",
              "      <td>14.047763</td>\n",
              "      <td>1184.664366</td>\n",
              "    </tr>\n",
              "    <tr>\n",
              "      <th>std</th>\n",
              "      <td>621.950561</td>\n",
              "      <td>16.377131</td>\n",
              "      <td>684.673885</td>\n",
              "    </tr>\n",
              "    <tr>\n",
              "      <th>min</th>\n",
              "      <td>1.000000</td>\n",
              "      <td>1.000000</td>\n",
              "      <td>1.000000</td>\n",
              "    </tr>\n",
              "    <tr>\n",
              "      <th>25%</th>\n",
              "      <td>539.250000</td>\n",
              "      <td>4.000000</td>\n",
              "      <td>592.000000</td>\n",
              "    </tr>\n",
              "    <tr>\n",
              "      <th>50%</th>\n",
              "      <td>1077.500000</td>\n",
              "      <td>9.000000</td>\n",
              "      <td>1184.000000</td>\n",
              "    </tr>\n",
              "    <tr>\n",
              "      <th>75%</th>\n",
              "      <td>1615.750000</td>\n",
              "      <td>18.000000</td>\n",
              "      <td>1775.250000</td>\n",
              "    </tr>\n",
              "    <tr>\n",
              "      <th>max</th>\n",
              "      <td>2154.000000</td>\n",
              "      <td>200.000000</td>\n",
              "      <td>2434.000000</td>\n",
              "    </tr>\n",
              "  </tbody>\n",
              "</table>\n",
              "</div>\n",
              "      <button class=\"colab-df-convert\" onclick=\"convertToInteractive('df-5a8592e2-dc03-497e-8c1b-396f1998d948')\"\n",
              "              title=\"Convert this dataframe to an interactive table.\"\n",
              "              style=\"display:none;\">\n",
              "        \n",
              "  <svg xmlns=\"http://www.w3.org/2000/svg\" height=\"24px\"viewBox=\"0 0 24 24\"\n",
              "       width=\"24px\">\n",
              "    <path d=\"M0 0h24v24H0V0z\" fill=\"none\"/>\n",
              "    <path d=\"M18.56 5.44l.94 2.06.94-2.06 2.06-.94-2.06-.94-.94-2.06-.94 2.06-2.06.94zm-11 1L8.5 8.5l.94-2.06 2.06-.94-2.06-.94L8.5 2.5l-.94 2.06-2.06.94zm10 10l.94 2.06.94-2.06 2.06-.94-2.06-.94-.94-2.06-.94 2.06-2.06.94z\"/><path d=\"M17.41 7.96l-1.37-1.37c-.4-.4-.92-.59-1.43-.59-.52 0-1.04.2-1.43.59L10.3 9.45l-7.72 7.72c-.78.78-.78 2.05 0 2.83L4 21.41c.39.39.9.59 1.41.59.51 0 1.02-.2 1.41-.59l7.78-7.78 2.81-2.81c.8-.78.8-2.07 0-2.86zM5.41 20L4 18.59l7.72-7.72 1.47 1.35L5.41 20z\"/>\n",
              "  </svg>\n",
              "      </button>\n",
              "      \n",
              "  <style>\n",
              "    .colab-df-container {\n",
              "      display:flex;\n",
              "      flex-wrap:wrap;\n",
              "      gap: 12px;\n",
              "    }\n",
              "\n",
              "    .colab-df-convert {\n",
              "      background-color: #E8F0FE;\n",
              "      border: none;\n",
              "      border-radius: 50%;\n",
              "      cursor: pointer;\n",
              "      display: none;\n",
              "      fill: #1967D2;\n",
              "      height: 32px;\n",
              "      padding: 0 0 0 0;\n",
              "      width: 32px;\n",
              "    }\n",
              "\n",
              "    .colab-df-convert:hover {\n",
              "      background-color: #E2EBFA;\n",
              "      box-shadow: 0px 1px 2px rgba(60, 64, 67, 0.3), 0px 1px 3px 1px rgba(60, 64, 67, 0.15);\n",
              "      fill: #174EA6;\n",
              "    }\n",
              "\n",
              "    [theme=dark] .colab-df-convert {\n",
              "      background-color: #3B4455;\n",
              "      fill: #D2E3FC;\n",
              "    }\n",
              "\n",
              "    [theme=dark] .colab-df-convert:hover {\n",
              "      background-color: #434B5C;\n",
              "      box-shadow: 0px 1px 3px 1px rgba(0, 0, 0, 0.15);\n",
              "      filter: drop-shadow(0px 1px 2px rgba(0, 0, 0, 0.3));\n",
              "      fill: #FFFFFF;\n",
              "    }\n",
              "  </style>\n",
              "\n",
              "      <script>\n",
              "        const buttonEl =\n",
              "          document.querySelector('#df-5a8592e2-dc03-497e-8c1b-396f1998d948 button.colab-df-convert');\n",
              "        buttonEl.style.display =\n",
              "          google.colab.kernel.accessAllowed ? 'block' : 'none';\n",
              "\n",
              "        async function convertToInteractive(key) {\n",
              "          const element = document.querySelector('#df-5a8592e2-dc03-497e-8c1b-396f1998d948');\n",
              "          const dataTable =\n",
              "            await google.colab.kernel.invokeFunction('convertToInteractive',\n",
              "                                                     [key], {});\n",
              "          if (!dataTable) return;\n",
              "\n",
              "          const docLinkHtml = 'Like what you see? Visit the ' +\n",
              "            '<a target=\"_blank\" href=https://colab.research.google.com/notebooks/data_table.ipynb>data table notebook</a>'\n",
              "            + ' to learn more about interactive tables.';\n",
              "          element.innerHTML = '';\n",
              "          dataTable['output_type'] = 'display_data';\n",
              "          await google.colab.output.renderOutput(dataTable, element);\n",
              "          const docLink = document.createElement('div');\n",
              "          docLink.innerHTML = docLinkHtml;\n",
              "          element.appendChild(docLink);\n",
              "        }\n",
              "      </script>\n",
              "    </div>\n",
              "  </div>\n",
              "  "
            ]
          },
          "metadata": {},
          "execution_count": 19
        }
      ]
    },
    {
      "cell_type": "code",
      "source": [
        "corr = final_data.corr() #heatmap to correlate the dataset\n",
        "sns.heatmap(corr,cmap=\"coolwarm\")"
      ],
      "metadata": {
        "colab": {
          "base_uri": "https://localhost:8080/",
          "height": 509
        },
        "id": "oXQds4lbHpxw",
        "outputId": "a7bc7289-5a55-42aa-84d9-688a3ffbf7a0"
      },
      "execution_count": 20,
      "outputs": [
        {
          "output_type": "stream",
          "name": "stderr",
          "text": [
            "<ipython-input-20-ba4795c47e4e>:1: FutureWarning: The default value of numeric_only in DataFrame.corr is deprecated. In a future version, it will default to False. Select only valid columns or specify the value of numeric_only to silence this warning.\n",
            "  corr = final_data.corr() #heatmap to correlate the dataset\n"
          ]
        },
        {
          "output_type": "execute_result",
          "data": {
            "text/plain": [
              "<Axes: >"
            ]
          },
          "metadata": {},
          "execution_count": 20
        },
        {
          "output_type": "display_data",
          "data": {
            "text/plain": [
              "<Figure size 640x480 with 2 Axes>"
            ],
            "image/png": "[encoded data removed]"
          },
          "metadata": {}
        }
      ]
    },
    {
      "cell_type": "code",
      "source": [
        "final_data.dtypes"
      ],
      "metadata": {
        "colab": {
          "base_uri": "https://localhost:8080/"
        },
        "id": "UAu_Xb8kIotA",
        "outputId": "841660a4-fbdb-4ecd-8f8f-38c9ee0d887e"
      },
      "execution_count": 21,
      "outputs": [
        {
          "output_type": "execute_result",
          "data": {
            "text/plain": [
              "No                                                      float64\n",
              "Funding Programme                                        object\n",
              "LA                                                       object\n",
              "Scheme/Project Name                                      object\n",
              "No_ of Units                                              int64\n",
              "Approved Housing Body                                    object\n",
              "Stage 1 Capital Appraisal                                object\n",
              "Stage 2 Pre Planning                                     object\n",
              "Stage 3 Pre Tender design                                object\n",
              "Stage 4 Tender Report or Final Turnkey/CALF approval     object\n",
              "On Site                                                  object\n",
              "Completed                                                object\n",
              "No_                                                     float64\n",
              "dtype: object"
            ]
          },
          "metadata": {},
          "execution_count": 21
        }
      ]
    },
    {
      "cell_type": "markdown",
      "source": [
        "**funding programme vs. no.of units**"
      ],
      "metadata": {
        "id": "sqKvGar2aiqj"
      }
    },
    {
      "cell_type": "code",
      "source": [
        "#to visualize the graph\n",
        "final_data[['Funding Programme','No_ of Units']].plot(kind='bar')\n",
        "plt.xlabel('funding')\n",
        "plt.ylabel('no of units')\n",
        "plt.title('funding programme vs. no.of units ')\n",
        "plt.legend()\n",
        "plt.show()"
      ],
      "metadata": {
        "colab": {
          "base_uri": "https://localhost:8080/",
          "height": 493
        },
        "id": "E99Mbn4IIbtn",
        "outputId": "17eaa8c3-1f52-4ced-8aaf-22ef702912ae"
      },
      "execution_count": 22,
      "outputs": [
        {
          "output_type": "display_data",
          "data": {
            "text/plain": [
              "<Figure size 640x480 with 1 Axes>"
            ],
            "image/png": "[encoded data removed]"
          },
          "metadata": {}
        }
      ]
    },
    {
      "cell_type": "markdown",
      "source": [
        "**Distribution of Total approved housing and units**"
      ],
      "metadata": {
        "id": "d8iB3nRuawPq"
      }
    },
    {
      "cell_type": "code",
      "source": [
        "final_data[['Approved Housing Body', 'No_ of Units']].plot(kind='hist', bins=10)\n",
        "plt.xlabel('Housing body')\n",
        "plt.ylabel('units')\n",
        "plt.title('Distribution of Total approved housing and units')\n",
        "plt.legend()\n",
        "plt.show()"
      ],
      "metadata": {
        "colab": {
          "base_uri": "https://localhost:8080/",
          "height": 472
        },
        "id": "bD_ojfQAIzov",
        "outputId": "860b594a-69f1-47ad-9b04-b72575101537"
      },
      "execution_count": null,
      "outputs": [
        {
          "output_type": "display_data",
          "data": {
            "text/plain": [
              "<Figure size 640x480 with 1 Axes>"
            ],
            "image/png": "[encoded data removed]"
          },
          "metadata": {}
        }
      ]
    },
    {
      "cell_type": "markdown",
      "source": [
        "**Box Plot of completed and units**"
      ],
      "metadata": {
        "id": "nezdcZA3a9NL"
      }
    },
    {
      "cell_type": "code",
      "source": [
        "final_data[['Completed', 'No_ of Units']].plot(kind='box')\n",
        "plt.ylabel('Completed')\n",
        "plt.title('Box Plot of completed and units')\n",
        "plt.show()"
      ],
      "metadata": {
        "colab": {
          "base_uri": "https://localhost:8080/",
          "height": 452
        },
        "id": "9E22t05YJ3J0",
        "outputId": "a2bf071e-0fd0-412e-d9cc-6756afb97e01"
      },
      "execution_count": null,
      "outputs": [
        {
          "output_type": "display_data",
          "data": {
            "text/plain": [
              "<Figure size 640x480 with 1 Axes>"
            ],
            "image/png": "[encoded data removed]"
          },
          "metadata": {}
        }
      ]
    },
    {
      "cell_type": "markdown",
      "source": [
        "**Frequency Distribution of LA**"
      ],
      "metadata": {
        "id": "ZSiFw--zbCLh"
      }
    },
    {
      "cell_type": "code",
      "source": [
        "plt.figure(figsize=(12,8))\n",
        "la_counts = final_data['LA'].value_counts()\n",
        "plt.bar(la_counts.index, la_counts.values)\n",
        "plt.xlabel('LA')\n",
        "plt.ylabel('Frequency')\n",
        "plt.title('Frequency Distribution of LA')\n",
        "plt.xticks(rotation=45)\n",
        "plt.show()\n"
      ],
      "metadata": {
        "id": "DrA-YHC5Kr5N",
        "colab": {
          "base_uri": "https://localhost:8080/",
          "height": 741
        },
        "outputId": "5fe72b6a-0a38-4f0b-fbed-3701129aef0d"
      },
      "execution_count": null,
      "outputs": [
        {
          "output_type": "display_data",
          "data": {
            "text/plain": [
              "<Figure size 1200x800 with 1 Axes>"
            ],
            "image/png": "[encoded data removed]"
          },
          "metadata": {}
        }
      ]
    },
    {
      "cell_type": "code",
      "source": [
        "final_data[\"LA\"].unique() #unique values in the specific column"
      ],
      "metadata": {
        "id": "XFoA9RqyLRwN",
        "colab": {
          "base_uri": "https://localhost:8080/"
        },
        "outputId": "32a67934-bf63-4e1f-fa61-33e048fe53df"
      },
      "execution_count": null,
      "outputs": [
        {
          "output_type": "execute_result",
          "data": {
            "text/plain": [
              "array(['Carlow', 'Cavan', 'Clare', 'Cork City', 'Cork County', 'DLR',\n",
              "       'Donegal', 'Dublin City', 'Fingal', 'Galway City', 'Galway County',\n",
              "       'Kerry', 'Kildare', 'Kilkenny', 'Laois', 'Leitrim', 'Limerick',\n",
              "       'Longford', 'Louth', 'Mayo', 'Meath', 'Monaghan', 'Offaly',\n",
              "       'Roscommon', 'Sligo', 'South Dublin', 'Tipperary', 'Waterford',\n",
              "       'Westmeath', 'Wexford', 'Wicklow'], dtype=object)"
            ]
          },
          "metadata": {},
          "execution_count": 46
        }
      ]
    },
    {
      "cell_type": "markdown",
      "source": [
        "**Statistical** **Testing**"
      ],
      "metadata": {
        "id": "I-1D4E5RMqFY"
      }
    },
    {
      "cell_type": "code",
      "source": [
        "from scipy.stats import ttest_ind, f_oneway, mannwhitneyu, kruskal, chi2_contingency\n",
        "#The ttest_ind function is used to perform an independent two-sample t-test.\n",
        "#The f_oneway function is used to perform a one-way ANOVA (Analysis of Variance) test.\n",
        "#The mannwhitneyu function is used to perform a Mann-Whitney U test.\n",
        "#It compares the distributions of two independent samples to determine if they are significantly different\n",
        "#The kruskal function is used to perform a Kruskal-Wallis H test.\n",
        "#It compares the distributions of two or more independent samples to determine if there are any significant differences among them.\n"
      ],
      "metadata": {
        "id": "PYWioaCiMAy6"
      },
      "execution_count": null,
      "outputs": []
    },
    {
      "cell_type": "markdown",
      "source": [
        "**Parametric_tests** \n",
        "\n",
        "Parametric statistics refers to a branch of statistical \n",
        "\n",
        "\n",
        "analysis that assumes specific characteristics about the population being studied."
      ],
      "metadata": {
        "id": "C06BawFvUKuC"
      }
    },
    {
      "cell_type": "code",
      "source": [
        "carlow_state = final_data[final_data['LA'] == 'Carlow']['No_ of Units']\n",
        "Manoghan_state = final_data[final_data[\"LA\"] == \"Monaghan\"][\"No_ of Units\"]"
      ],
      "metadata": {
        "id": "rUn-RNtIMvv6"
      },
      "execution_count": null,
      "outputs": []
    },
    {
      "cell_type": "code",
      "source": [
        "parametric_tests = []\n",
        "\n",
        "# Independent Samples t-test\n",
        "t_stat, p_value = ttest_ind(carlow_state, Manoghan_state)\n",
        "parametric_tests.append(('carlow vs. manoghan', t_stat, p_value))\n"
      ],
      "metadata": {
        "id": "EEB4BWQvOeYY"
      },
      "execution_count": null,
      "outputs": []
    },
    {
      "cell_type": "code",
      "source": [
        "print(\"parametric Tests:\")\n",
        "for test in parametric_tests:\n",
        "    print(f\"{test[0]}: t-statistic={test[1]}, p-value={test[2]}\")\n"
      ],
      "metadata": {
        "colab": {
          "base_uri": "https://localhost:8080/"
        },
        "id": "o5pZGpxQPczS",
        "outputId": "b8ad55a7-0fd4-49a9-8dcc-ec1278ed3f73"
      },
      "execution_count": null,
      "outputs": [
        {
          "output_type": "stream",
          "name": "stdout",
          "text": [
            "parametric Tests:\n",
            "carlow vs. manoghan: t-statistic=-1.011938525704457, p-value=0.3121776420358724\n"
          ]
        }
      ]
    },
    {
      "cell_type": "markdown",
      "source": [
        "**Anova model**\n",
        "\n",
        "ANOVA (Analysis of Variance) is a statistical test used to analyze the differences between the means of two or more groups or treatments. "
      ],
      "metadata": {
        "id": "gLkOuwMqS7Vz"
      }
    },
    {
      "cell_type": "code",
      "source": [
        "carlow_state = final_data[final_data['LA'] == 'Carlow']['No_ of Units']\n",
        "Manoghan_state = final_data[final_data[\"LA\"] == \"Monaghan\"][\"No_ of Units\"]\n",
        "Cavan_state = final_data[final_data['LA'] == 'Cavan']['No_ of Units']\n",
        "Louth_state = final_data[final_data['LA'] == 'Louth']['No_ of Units']\n",
        "Mayo_state = final_data[final_data[\"LA\"] == \"Mayo\"][\"No_ of Units\"]"
      ],
      "metadata": {
        "id": "Ps5uQsYrS6Lq"
      },
      "execution_count": null,
      "outputs": []
    },
    {
      "cell_type": "code",
      "source": [
        "f_stat, p_value = f_oneway(carlow_state,Manoghan_state,Cavan_state,Louth_state,Mayo_state)\n",
        "parametric_tests.append(('ANOVA', f_stat, p_value))"
      ],
      "metadata": {
        "id": "Yv8Y88tXP_Qw"
      },
      "execution_count": null,
      "outputs": []
    },
    {
      "cell_type": "code",
      "source": [
        "# Print results\n",
        "print(\"Parametric Tests:\")\n",
        "for test in parametric_tests:\n",
        "    print(f\"{test[0]}: t-statistic={test[1]}, p-value={test[2]}\")"
      ],
      "metadata": {
        "colab": {
          "base_uri": "https://localhost:8080/"
        },
        "id": "6R3lq0OwT_dS",
        "outputId": "41905d17-77d3-40a9-8775-4829629c695a"
      },
      "execution_count": null,
      "outputs": [
        {
          "output_type": "stream",
          "name": "stdout",
          "text": [
            "Parametric Tests:\n",
            "carlow vs. manoghan: t-statistic=-1.011938525704457, p-value=0.3121776420358724\n",
            "ANOVA: t-statistic=4.207392775192804, p-value=0.0021668451642160233\n"
          ]
        }
      ]
    },
    {
      "cell_type": "markdown",
      "source": [
        "**Non_parametric tests**\n",
        "\n",
        "Non-parametric tests are often preferred in situations where the assumptions of parametric tests are violated, such as with skewed or ordinal data."
      ],
      "metadata": {
        "id": "MRV24P7WUOdn"
      }
    },
    {
      "cell_type": "code",
      "source": [
        "# Non-parametric Tests\n",
        "non_parametric_tests = []"
      ],
      "metadata": {
        "id": "8SW_nC0LUnaR"
      },
      "execution_count": null,
      "outputs": []
    },
    {
      "cell_type": "code",
      "source": [
        "u_stat, p_value = mannwhitneyu(carlow_state, Manoghan_state)\n",
        "non_parametric_tests.append(('carlow vs. manoghan', u_stat, p_value))"
      ],
      "metadata": {
        "id": "BlyRhYMCUGD8"
      },
      "execution_count": null,
      "outputs": []
    },
    {
      "cell_type": "code",
      "source": [
        "print(\"Non-parametric Tests:\")\n",
        "for test in non_parametric_tests:\n",
        "    print(f\"{test[0]}: statistic={test[1]}, p-value={test[2]}\")"
      ],
      "metadata": {
        "id": "X-NrzB_ZUjFF",
        "colab": {
          "base_uri": "https://localhost:8080/"
        },
        "outputId": "198a3c8b-150c-4a0c-f0be-d3523dc86ebb"
      },
      "execution_count": null,
      "outputs": [
        {
          "output_type": "stream",
          "name": "stdout",
          "text": [
            "Non-parametric Tests:\n",
            "carlow vs. manoghan: statistic=21269.0, p-value=0.282554029148923\n"
          ]
        }
      ]
    },
    {
      "cell_type": "markdown",
      "source": [
        "**Kruskal-Wallis test**\n",
        "\n",
        "The kruskal function is used to perform a Kruskal-Wallis H test."
      ],
      "metadata": {
        "id": "R5aYDbQEUzzJ"
      }
    },
    {
      "cell_type": "code",
      "source": [
        "non_parametric_tests=[]"
      ],
      "metadata": {
        "id": "rvuP2vZ8U-_4"
      },
      "execution_count": null,
      "outputs": []
    },
    {
      "cell_type": "code",
      "source": [
        "h_stat, p_value = kruskal(carlow_state,Manoghan_state,Cavan_state,Louth_state,Mayo_state)\n",
        "non_parametric_tests.append(('Kruskal-Wallis', h_stat, p_value))"
      ],
      "metadata": {
        "id": "upSq4vFQUyyx"
      },
      "execution_count": null,
      "outputs": []
    },
    {
      "cell_type": "code",
      "source": [
        "print(\"Non-parametric Tests:\")\n",
        "for test in non_parametric_tests:\n",
        "    print(f\"{test[0]}: statistic={test[1]}, p-value={test[2]}\")"
      ],
      "metadata": {
        "id": "7AExsTh-UtbQ",
        "colab": {
          "base_uri": "https://localhost:8080/"
        },
        "outputId": "9dd65d20-dfa6-4a68-c752-210bf3aafccc"
      },
      "execution_count": null,
      "outputs": [
        {
          "output_type": "stream",
          "name": "stdout",
          "text": [
            "Non-parametric Tests:\n",
            "Kruskal-Wallis: statistic=14.278376110806683, p-value=0.0064575994794373055\n"
          ]
        }
      ]
    },
    {
      "cell_type": "markdown",
      "source": [
        "Machine learning algorithms"
      ],
      "metadata": {
        "id": "lkM2JjC_1MB8"
      }
    },
    {
      "cell_type": "code",
      "source": [
        "import pandas as pd\n",
        "from sklearn.linear_model import LinearRegression #linearmodelregression\n",
        "from sklearn.svm import SVR #Supportvectormachine\n",
        "from sklearn.feature_extraction.text import CountVectorizer #To convert text into numeric data\n",
        "from sklearn.naive_bayes import MultinomialNB # Navie Bayes theorem\n",
        "from sklearn.model_selection import GridSearchCV\n",
        "from sklearn.metrics import classification_report #bulid a classification report\n",
        "from sklearn.model_selection import train_test_split\n",
        "from sklearn.feature_extraction.text import TfidfVectorizer"
      ],
      "metadata": {
        "id": "MyCbSPzq0TBN"
      },
      "execution_count": null,
      "outputs": []
    },
    {
      "cell_type": "code",
      "source": [
        "final_data.head()"
      ],
      "metadata": {
        "id": "rwgUwzjd1PHg",
        "colab": {
          "base_uri": "https://localhost:8080/",
          "height": 531
        },
        "outputId": "e11fddc8-d175-4d02-cc61-141e19c75e77"
      },
      "execution_count": null,
      "outputs": [
        {
          "output_type": "execute_result",
          "data": {
            "text/plain": [
              "    No          Funding Programme      LA               Scheme/Project Name  \\\n",
              "0  1.0  SHIP CONSTRUCTION TURNKEY  Carlow  Carrigbrook, Tullow Road, Carlow   \n",
              "1  2.0  SHIP CONSTRUCTION TURNKEY  Carlow  Carrigbrook, Tullow Road, Carlow   \n",
              "2  3.0  SHIP CONSTRUCTION TURNKEY  Carlow  Carrigbrook, Tullow Road, Carlow   \n",
              "3  4.0  SHIP CONSTRUCTION TURNKEY  Carlow  Carrigbrook, Tullow Road, Carlow   \n",
              "4  5.0  SHIP CONSTRUCTION TURNKEY  Carlow  Carrigbrook, Tullow Road, Carlow   \n",
              "\n",
              "   No_ of Units Approved Housing Body Stage 1 Capital Appraisal  \\\n",
              "0             6                  *N/A                       NaN   \n",
              "1             6                  *N/A                       NaN   \n",
              "2             8                  *N/A                       NaN   \n",
              "3            12                  *N/A                       NaN   \n",
              "4            12                  *N/A                       NaN   \n",
              "\n",
              "  Stage 2 Pre Planning Stage 3 Pre Tender design  \\\n",
              "0                  NaN                       NaN   \n",
              "1                  NaN                       NaN   \n",
              "2                  NaN                       NaN   \n",
              "3                  NaN                       NaN   \n",
              "4                  NaN                       NaN   \n",
              "\n",
              "  Stage 4 Tender Report or Final Turnkey/CALF approval  On Site Completed  No_  \n",
              "0                                                NaN        NaN   Q3-2019  NaN  \n",
              "1                                                NaN        NaN   Q3-2019  NaN  \n",
              "2                                                NaN    Q4-2017       NaN  NaN  \n",
              "3                                                NaN    Q4-2017       NaN  NaN  \n",
              "4                                                NaN    Q4-2017       NaN  NaN  "
            ],
            "text/html": [
              "\n",
              "  <div id=\"df-3bc3ba72-5dbd-415f-a3b3-2df05ad34365\">\n",
              "    <div class=\"colab-df-container\">\n",
              "      <div>\n",
              "<style scoped>\n",
              "    .dataframe tbody tr th:only-of-type {\n",
              "        vertical-align: middle;\n",
              "    }\n",
              "\n",
              "    .dataframe tbody tr th {\n",
              "        vertical-align: top;\n",
              "    }\n",
              "\n",
              "    .dataframe thead th {\n",
              "        text-align: right;\n",
              "    }\n",
              "</style>\n",
              "<table border=\"1\" class=\"dataframe\">\n",
              "  <thead>\n",
              "    <tr style=\"text-align: right;\">\n",
              "      <th></th>\n",
              "      <th>No</th>\n",
              "      <th>Funding Programme</th>\n",
              "      <th>LA</th>\n",
              "      <th>Scheme/Project Name</th>\n",
              "      <th>No_ of Units</th>\n",
              "      <th>Approved Housing Body</th>\n",
              "      <th>Stage 1 Capital Appraisal</th>\n",
              "      <th>Stage 2 Pre Planning</th>\n",
              "      <th>Stage 3 Pre Tender design</th>\n",
              "      <th>Stage 4 Tender Report or Final Turnkey/CALF approval</th>\n",
              "      <th>On Site</th>\n",
              "      <th>Completed</th>\n",
              "      <th>No_</th>\n",
              "    </tr>\n",
              "  </thead>\n",
              "  <tbody>\n",
              "    <tr>\n",
              "      <th>0</th>\n",
              "      <td>1.0</td>\n",
              "      <td>SHIP CONSTRUCTION TURNKEY</td>\n",
              "      <td>Carlow</td>\n",
              "      <td>Carrigbrook, Tullow Road, Carlow</td>\n",
              "      <td>6</td>\n",
              "      <td>*N/A</td>\n",
              "      <td>NaN</td>\n",
              "      <td>NaN</td>\n",
              "      <td>NaN</td>\n",
              "      <td>NaN</td>\n",
              "      <td>NaN</td>\n",
              "      <td>Q3-2019</td>\n",
              "      <td>NaN</td>\n",
              "    </tr>\n",
              "    <tr>\n",
              "      <th>1</th>\n",
              "      <td>2.0</td>\n",
              "      <td>SHIP CONSTRUCTION TURNKEY</td>\n",
              "      <td>Carlow</td>\n",
              "      <td>Carrigbrook, Tullow Road, Carlow</td>\n",
              "      <td>6</td>\n",
              "      <td>*N/A</td>\n",
              "      <td>NaN</td>\n",
              "      <td>NaN</td>\n",
              "      <td>NaN</td>\n",
              "      <td>NaN</td>\n",
              "      <td>NaN</td>\n",
              "      <td>Q3-2019</td>\n",
              "      <td>NaN</td>\n",
              "    </tr>\n",
              "    <tr>\n",
              "      <th>2</th>\n",
              "      <td>3.0</td>\n",
              "      <td>SHIP CONSTRUCTION TURNKEY</td>\n",
              "      <td>Carlow</td>\n",
              "      <td>Carrigbrook, Tullow Road, Carlow</td>\n",
              "      <td>8</td>\n",
              "      <td>*N/A</td>\n",
              "      <td>NaN</td>\n",
              "      <td>NaN</td>\n",
              "      <td>NaN</td>\n",
              "      <td>NaN</td>\n",
              "      <td>Q4-2017</td>\n",
              "      <td>NaN</td>\n",
              "      <td>NaN</td>\n",
              "    </tr>\n",
              "    <tr>\n",
              "      <th>3</th>\n",
              "      <td>4.0</td>\n",
              "      <td>SHIP CONSTRUCTION TURNKEY</td>\n",
              "      <td>Carlow</td>\n",
              "      <td>Carrigbrook, Tullow Road, Carlow</td>\n",
              "      <td>12</td>\n",
              "      <td>*N/A</td>\n",
              "      <td>NaN</td>\n",
              "      <td>NaN</td>\n",
              "      <td>NaN</td>\n",
              "      <td>NaN</td>\n",
              "      <td>Q4-2017</td>\n",
              "      <td>NaN</td>\n",
              "      <td>NaN</td>\n",
              "    </tr>\n",
              "    <tr>\n",
              "      <th>4</th>\n",
              "      <td>5.0</td>\n",
              "      <td>SHIP CONSTRUCTION TURNKEY</td>\n",
              "      <td>Carlow</td>\n",
              "      <td>Carrigbrook, Tullow Road, Carlow</td>\n",
              "      <td>12</td>\n",
              "      <td>*N/A</td>\n",
              "      <td>NaN</td>\n",
              "      <td>NaN</td>\n",
              "      <td>NaN</td>\n",
              "      <td>NaN</td>\n",
              "      <td>Q4-2017</td>\n",
              "      <td>NaN</td>\n",
              "      <td>NaN</td>\n",
              "    </tr>\n",
              "  </tbody>\n",
              "</table>\n",
              "</div>\n",
              "      <button class=\"colab-df-convert\" onclick=\"convertToInteractive('df-3bc3ba72-5dbd-415f-a3b3-2df05ad34365')\"\n",
              "              title=\"Convert this dataframe to an interactive table.\"\n",
              "              style=\"display:none;\">\n",
              "        \n",
              "  <svg xmlns=\"http://www.w3.org/2000/svg\" height=\"24px\"viewBox=\"0 0 24 24\"\n",
              "       width=\"24px\">\n",
              "    <path d=\"M0 0h24v24H0V0z\" fill=\"none\"/>\n",
              "    <path d=\"M18.56 5.44l.94 2.06.94-2.06 2.06-.94-2.06-.94-.94-2.06-.94 2.06-2.06.94zm-11 1L8.5 8.5l.94-2.06 2.06-.94-2.06-.94L8.5 2.5l-.94 2.06-2.06.94zm10 10l.94 2.06.94-2.06 2.06-.94-2.06-.94-.94-2.06-.94 2.06-2.06.94z\"/><path d=\"M17.41 7.96l-1.37-1.37c-.4-.4-.92-.59-1.43-.59-.52 0-1.04.2-1.43.59L10.3 9.45l-7.72 7.72c-.78.78-.78 2.05 0 2.83L4 21.41c.39.39.9.59 1.41.59.51 0 1.02-.2 1.41-.59l7.78-7.78 2.81-2.81c.8-.78.8-2.07 0-2.86zM5.41 20L4 18.59l7.72-7.72 1.47 1.35L5.41 20z\"/>\n",
              "  </svg>\n",
              "      </button>\n",
              "      \n",
              "  <style>\n",
              "    .colab-df-container {\n",
              "      display:flex;\n",
              "      flex-wrap:wrap;\n",
              "      gap: 12px;\n",
              "    }\n",
              "\n",
              "    .colab-df-convert {\n",
              "      background-color: #E8F0FE;\n",
              "      border: none;\n",
              "      border-radius: 50%;\n",
              "      cursor: pointer;\n",
              "      display: none;\n",
              "      fill: #1967D2;\n",
              "      height: 32px;\n",
              "      padding: 0 0 0 0;\n",
              "      width: 32px;\n",
              "    }\n",
              "\n",
              "    .colab-df-convert:hover {\n",
              "      background-color: #E2EBFA;\n",
              "      box-shadow: 0px 1px 2px rgba(60, 64, 67, 0.3), 0px 1px 3px 1px rgba(60, 64, 67, 0.15);\n",
              "      fill: #174EA6;\n",
              "    }\n",
              "\n",
              "    [theme=dark] .colab-df-convert {\n",
              "      background-color: #3B4455;\n",
              "      fill: #D2E3FC;\n",
              "    }\n",
              "\n",
              "    [theme=dark] .colab-df-convert:hover {\n",
              "      background-color: #434B5C;\n",
              "      box-shadow: 0px 1px 3px 1px rgba(0, 0, 0, 0.15);\n",
              "      filter: drop-shadow(0px 1px 2px rgba(0, 0, 0, 0.3));\n",
              "      fill: #FFFFFF;\n",
              "    }\n",
              "  </style>\n",
              "\n",
              "      <script>\n",
              "        const buttonEl =\n",
              "          document.querySelector('#df-3bc3ba72-5dbd-415f-a3b3-2df05ad34365 button.colab-df-convert');\n",
              "        buttonEl.style.display =\n",
              "          google.colab.kernel.accessAllowed ? 'block' : 'none';\n",
              "\n",
              "        async function convertToInteractive(key) {\n",
              "          const element = document.querySelector('#df-3bc3ba72-5dbd-415f-a3b3-2df05ad34365');\n",
              "          const dataTable =\n",
              "            await google.colab.kernel.invokeFunction('convertToInteractive',\n",
              "                                                     [key], {});\n",
              "          if (!dataTable) return;\n",
              "\n",
              "          const docLinkHtml = 'Like what you see? Visit the ' +\n",
              "            '<a target=\"_blank\" href=https://colab.research.google.com/notebooks/data_table.ipynb>data table notebook</a>'\n",
              "            + ' to learn more about interactive tables.';\n",
              "          element.innerHTML = '';\n",
              "          dataTable['output_type'] = 'display_data';\n",
              "          await google.colab.output.renderOutput(dataTable, element);\n",
              "          const docLink = document.createElement('div');\n",
              "          docLink.innerHTML = docLinkHtml;\n",
              "          element.appendChild(docLink);\n",
              "        }\n",
              "      </script>\n",
              "    </div>\n",
              "  </div>\n",
              "  "
            ]
          },
          "metadata": {},
          "execution_count": 61
        }
      ]
    },
    {
      "cell_type": "code",
      "source": [
        "final_data.columns"
      ],
      "metadata": {
        "id": "kDJi6ktB2A6k",
        "colab": {
          "base_uri": "https://localhost:8080/"
        },
        "outputId": "705215b9-4ef7-4901-c23f-6f7c376e102a"
      },
      "execution_count": null,
      "outputs": [
        {
          "output_type": "execute_result",
          "data": {
            "text/plain": [
              "Index(['No', 'Funding Programme', 'LA', 'Scheme/Project Name', 'No_ of Units',\n",
              "       'Approved Housing Body', 'Stage 1 Capital Appraisal',\n",
              "       'Stage 2 Pre Planning', 'Stage 3 Pre Tender design',\n",
              "       'Stage 4 Tender Report or Final Turnkey/CALF approval', 'On Site',\n",
              "       'Completed', 'No_'],\n",
              "      dtype='object')"
            ]
          },
          "metadata": {},
          "execution_count": 62
        }
      ]
    },
    {
      "cell_type": "code",
      "source": [
        "## seperating the data as texts and label \n",
        "X=final_data[\"Scheme/Project Name\"]\n",
        "Y=final_data[\"No_ of Units\"]"
      ],
      "metadata": {
        "id": "IGQVg6W51StC"
      },
      "execution_count": null,
      "outputs": []
    },
    {
      "cell_type": "code",
      "source": [
        "X_train,X_test,Y_train,Y_test = train_test_split(X,Y,test_size=0.2,random_state=3)"
      ],
      "metadata": {
        "id": "LAKQryfN2HnQ"
      },
      "execution_count": null,
      "outputs": []
    },
    {
      "cell_type": "code",
      "source": [
        "##transform the text data into vectors\n",
        "feature_extraction = TfidfVectorizer(min_df=1,stop_words=\"english\",lowercase=True)"
      ],
      "metadata": {
        "id": "up4OzPE_2Lls"
      },
      "execution_count": null,
      "outputs": []
    },
    {
      "cell_type": "code",
      "source": [
        "X_train_features = feature_extraction.fit_transform(X_train)\n",
        "X_test_features = feature_extraction.transform(X_test)"
      ],
      "metadata": {
        "id": "yd0jOW0o2qCL"
      },
      "execution_count": null,
      "outputs": []
    },
    {
      "cell_type": "code",
      "source": [
        "#convert Y_train & Y_test value as integers \n",
        "Y_train = Y_train.astype(\"int\")\n",
        "Y_test = Y_test.astype(\"int\")"
      ],
      "metadata": {
        "id": "z9N0UsOH2yqY"
      },
      "execution_count": null,
      "outputs": []
    },
    {
      "cell_type": "code",
      "source": [
        "print(X_train_features)"
      ],
      "metadata": {
        "id": "rTA6vcPa26CM",
        "colab": {
          "base_uri": "https://localhost:8080/"
        },
        "outputId": "5f414d4d-ebfb-44e9-82d1-80ed6bb36a5b"
      },
      "execution_count": null,
      "outputs": [
        {
          "output_type": "stream",
          "name": "stdout",
          "text": [
            "  (0, 1229)\t0.47938969701989254\n",
            "  (0, 766)\t0.8776021412867995\n",
            "  (1, 570)\t0.6641041225969865\n",
            "  (1, 2000)\t0.270267408627413\n",
            "  (1, 1893)\t0.697080513415423\n",
            "  (2, 1862)\t0.14649888866813496\n",
            "  (2, 1531)\t0.4040953186384618\n",
            "  (2, 1740)\t0.5370382816913953\n",
            "  (2, 710)\t0.43159358555579247\n",
            "  (2, 265)\t0.583576824401492\n",
            "  (3, 1)\t0.5808350649100822\n",
            "  (3, 954)\t0.27409025127099335\n",
            "  (3, 981)\t0.7505547572109013\n",
            "  (3, 1862)\t0.15547577932652254\n",
            "  (4, 34)\t0.4895000274441103\n",
            "  (4, 1204)\t0.36696339260075944\n",
            "  (4, 306)\t0.4895000274441103\n",
            "  (4, 1153)\t0.42455408076172374\n",
            "  (4, 1171)\t0.39876023719655534\n",
            "  (4, 1862)\t0.12405942763396204\n",
            "  (4, 2000)\t0.17739977144861258\n",
            "  (5, 573)\t0.6141650557973601\n",
            "  (5, 940)\t0.7707627107699131\n",
            "  (5, 1862)\t0.16948784004771697\n",
            "  (6, 407)\t0.563932288343887\n",
            "  :\t:\n",
            "  (7397, 1260)\t0.6847404837771388\n",
            "  (7397, 1079)\t0.5473766934998762\n",
            "  (7397, 2356)\t0.4811540556721856\n",
            "  (7398, 326)\t0.48888662730343463\n",
            "  (7398, 79)\t0.48888662730343463\n",
            "  (7398, 73)\t0.48888662730343463\n",
            "  (7398, 1174)\t0.3255822427949061\n",
            "  (7398, 1493)\t0.27310428824560695\n",
            "  (7398, 2310)\t0.31996851071647187\n",
            "  (7399, 1767)\t0.6828372164369979\n",
            "  (7399, 1816)\t0.47996514071492313\n",
            "  (7399, 682)\t0.49997038937742405\n",
            "  (7399, 2000)\t0.23107663078049134\n",
            "  (7400, 2223)\t0.8425009140282823\n",
            "  (7400, 795)\t0.5386949135285287\n",
            "  (7401, 693)\t0.7927777392363728\n",
            "  (7401, 2263)\t0.6095108335142745\n",
            "  (7402, 839)\t0.5018569092226041\n",
            "  (7402, 2277)\t0.41077665790469575\n",
            "  (7402, 1876)\t0.45554883679499597\n",
            "  (7402, 731)\t0.3831722743054001\n",
            "  (7402, 1574)\t0.28878122815530427\n",
            "  (7402, 962)\t0.31046446879150447\n",
            "  (7402, 1862)\t0.12193962572310846\n",
            "  (7402, 2000)\t0.17436854374045885\n"
          ]
        }
      ]
    },
    {
      "cell_type": "code",
      "source": [
        "model = LinearRegression()\n",
        "model.fit(X_train_features,Y_train)"
      ],
      "metadata": {
        "id": "hJQqaZBt28JO",
        "colab": {
          "base_uri": "https://localhost:8080/",
          "height": 75
        },
        "outputId": "c8be6e51-b01f-4c01-9a58-e89cfe08cea0"
      },
      "execution_count": null,
      "outputs": [
        {
          "output_type": "execute_result",
          "data": {
            "text/plain": [
              "LinearRegression()"
            ],
            "text/html": [
              "<style>#sk-container-id-1 {color: black;background-color: white;}#sk-container-id-1 pre{padding: 0;}#sk-container-id-1 div.sk-toggleable {background-color: white;}#sk-container-id-1 label.sk-toggleable__label {cursor: pointer;display: block;width: 100%;margin-bottom: 0;padding: 0.3em;box-sizing: border-box;text-align: center;}#sk-container-id-1 label.sk-toggleable__label-arrow:before {content: \"▸\";float: left;margin-right: 0.25em;color: #696969;}#sk-container-id-1 label.sk-toggleable__label-arrow:hover:before {color: black;}#sk-container-id-1 div.sk-estimator:hover label.sk-toggleable__label-arrow:before {color: black;}#sk-container-id-1 div.sk-toggleable__content {max-height: 0;max-width: 0;overflow: hidden;text-align: left;background-color: #f0f8ff;}#sk-container-id-1 div.sk-toggleable__content pre {margin: 0.2em;color: black;border-radius: 0.25em;background-color: #f0f8ff;}#sk-container-id-1 input.sk-toggleable__control:checked~div.sk-toggleable__content {max-height: 200px;max-width: 100%;overflow: auto;}#sk-container-id-1 input.sk-toggleable__control:checked~label.sk-toggleable__label-arrow:before {content: \"▾\";}#sk-container-id-1 div.sk-estimator input.sk-toggleable__control:checked~label.sk-toggleable__label {background-color: #d4ebff;}#sk-container-id-1 div.sk-label input.sk-toggleable__control:checked~label.sk-toggleable__label {background-color: #d4ebff;}#sk-container-id-1 input.sk-hidden--visually {border: 0;clip: rect(1px 1px 1px 1px);clip: rect(1px, 1px, 1px, 1px);height: 1px;margin: -1px;overflow: hidden;padding: 0;position: absolute;width: 1px;}#sk-container-id-1 div.sk-estimator {font-family: monospace;background-color: #f0f8ff;border: 1px dotted black;border-radius: 0.25em;box-sizing: border-box;margin-bottom: 0.5em;}#sk-container-id-1 div.sk-estimator:hover {background-color: #d4ebff;}#sk-container-id-1 div.sk-parallel-item::after {content: \"\";width: 100%;border-bottom: 1px solid gray;flex-grow: 1;}#sk-container-id-1 div.sk-label:hover label.sk-toggleable__label {background-color: #d4ebff;}#sk-container-id-1 div.sk-serial::before {content: \"\";position: absolute;border-left: 1px solid gray;box-sizing: border-box;top: 0;bottom: 0;left: 50%;z-index: 0;}#sk-container-id-1 div.sk-serial {display: flex;flex-direction: column;align-items: center;background-color: white;padding-right: 0.2em;padding-left: 0.2em;position: relative;}#sk-container-id-1 div.sk-item {position: relative;z-index: 1;}#sk-container-id-1 div.sk-parallel {display: flex;align-items: stretch;justify-content: center;background-color: white;position: relative;}#sk-container-id-1 div.sk-item::before, #sk-container-id-1 div.sk-parallel-item::before {content: \"\";position: absolute;border-left: 1px solid gray;box-sizing: border-box;top: 0;bottom: 0;left: 50%;z-index: -1;}#sk-container-id-1 div.sk-parallel-item {display: flex;flex-direction: column;z-index: 1;position: relative;background-color: white;}#sk-container-id-1 div.sk-parallel-item:first-child::after {align-self: flex-end;width: 50%;}#sk-container-id-1 div.sk-parallel-item:last-child::after {align-self: flex-start;width: 50%;}#sk-container-id-1 div.sk-parallel-item:only-child::after {width: 0;}#sk-container-id-1 div.sk-dashed-wrapped {border: 1px dashed gray;margin: 0 0.4em 0.5em 0.4em;box-sizing: border-box;padding-bottom: 0.4em;background-color: white;}#sk-container-id-1 div.sk-label label {font-family: monospace;font-weight: bold;display: inline-block;line-height: 1.2em;}#sk-container-id-1 div.sk-label-container {text-align: center;}#sk-container-id-1 div.sk-container {/* jupyter's `normalize.less` sets `[hidden] { display: none; }` but bootstrap.min.css set `[hidden] { display: none !important; }` so we also need the `!important` here to be able to override the default hidden behavior on the sphinx rendered scikit-learn.org. See: https://github.com/scikit-learn/scikit-learn/issues/21755 */display: inline-block !important;position: relative;}#sk-container-id-1 div.sk-text-repr-fallback {display: none;}</style><div id=\"sk-container-id-1\" class=\"sk-top-container\"><div class=\"sk-text-repr-fallback\"><pre>LinearRegression()</pre><b>In a Jupyter environment, please rerun this cell to show the HTML representation or trust the notebook. <br />On GitHub, the HTML representation is unable to render, please try loading this page with nbviewer.org.</b></div><div class=\"sk-container\" hidden><div class=\"sk-item\"><div class=\"sk-estimator sk-toggleable\"><input class=\"sk-toggleable__control sk-hidden--visually\" id=\"sk-estimator-id-1\" type=\"checkbox\" checked><label for=\"sk-estimator-id-1\" class=\"sk-toggleable__label sk-toggleable__label-arrow\">LinearRegression</label><div class=\"sk-toggleable__content\"><pre>LinearRegression()</pre></div></div></div></div></div>"
            ]
          },
          "metadata": {},
          "execution_count": 69
        }
      ]
    },
    {
      "cell_type": "code",
      "source": [
        "y_pred = model.predict(X_train_features)"
      ],
      "metadata": {
        "id": "xVeCeZ9r4f-v"
      },
      "execution_count": null,
      "outputs": []
    },
    {
      "cell_type": "code",
      "source": [
        "from sklearn.metrics import accuracy_score"
      ],
      "metadata": {
        "id": "LDdhiC2q4ziC"
      },
      "execution_count": null,
      "outputs": []
    },
    {
      "cell_type": "code",
      "source": [
        "nb = MultinomialNB()\n",
        "nb.fit(X_train_features,Y_train)"
      ],
      "metadata": {
        "id": "X301JuRm4Ib3",
        "colab": {
          "base_uri": "https://localhost:8080/",
          "height": 75
        },
        "outputId": "5fb59e9f-ae4a-4357-a588-101fd7004186"
      },
      "execution_count": null,
      "outputs": [
        {
          "output_type": "execute_result",
          "data": {
            "text/plain": [
              "MultinomialNB()"
            ],
            "text/html": [
              "<style>#sk-container-id-2 {color: black;background-color: white;}#sk-container-id-2 pre{padding: 0;}#sk-container-id-2 div.sk-toggleable {background-color: white;}#sk-container-id-2 label.sk-toggleable__label {cursor: pointer;display: block;width: 100%;margin-bottom: 0;padding: 0.3em;box-sizing: border-box;text-align: center;}#sk-container-id-2 label.sk-toggleable__label-arrow:before {content: \"▸\";float: left;margin-right: 0.25em;color: #696969;}#sk-container-id-2 label.sk-toggleable__label-arrow:hover:before {color: black;}#sk-container-id-2 div.sk-estimator:hover label.sk-toggleable__label-arrow:before {color: black;}#sk-container-id-2 div.sk-toggleable__content {max-height: 0;max-width: 0;overflow: hidden;text-align: left;background-color: #f0f8ff;}#sk-container-id-2 div.sk-toggleable__content pre {margin: 0.2em;color: black;border-radius: 0.25em;background-color: #f0f8ff;}#sk-container-id-2 input.sk-toggleable__control:checked~div.sk-toggleable__content {max-height: 200px;max-width: 100%;overflow: auto;}#sk-container-id-2 input.sk-toggleable__control:checked~label.sk-toggleable__label-arrow:before {content: \"▾\";}#sk-container-id-2 div.sk-estimator input.sk-toggleable__control:checked~label.sk-toggleable__label {background-color: #d4ebff;}#sk-container-id-2 div.sk-label input.sk-toggleable__control:checked~label.sk-toggleable__label {background-color: #d4ebff;}#sk-container-id-2 input.sk-hidden--visually {border: 0;clip: rect(1px 1px 1px 1px);clip: rect(1px, 1px, 1px, 1px);height: 1px;margin: -1px;overflow: hidden;padding: 0;position: absolute;width: 1px;}#sk-container-id-2 div.sk-estimator {font-family: monospace;background-color: #f0f8ff;border: 1px dotted black;border-radius: 0.25em;box-sizing: border-box;margin-bottom: 0.5em;}#sk-container-id-2 div.sk-estimator:hover {background-color: #d4ebff;}#sk-container-id-2 div.sk-parallel-item::after {content: \"\";width: 100%;border-bottom: 1px solid gray;flex-grow: 1;}#sk-container-id-2 div.sk-label:hover label.sk-toggleable__label {background-color: #d4ebff;}#sk-container-id-2 div.sk-serial::before {content: \"\";position: absolute;border-left: 1px solid gray;box-sizing: border-box;top: 0;bottom: 0;left: 50%;z-index: 0;}#sk-container-id-2 div.sk-serial {display: flex;flex-direction: column;align-items: center;background-color: white;padding-right: 0.2em;padding-left: 0.2em;position: relative;}#sk-container-id-2 div.sk-item {position: relative;z-index: 1;}#sk-container-id-2 div.sk-parallel {display: flex;align-items: stretch;justify-content: center;background-color: white;position: relative;}#sk-container-id-2 div.sk-item::before, #sk-container-id-2 div.sk-parallel-item::before {content: \"\";position: absolute;border-left: 1px solid gray;box-sizing: border-box;top: 0;bottom: 0;left: 50%;z-index: -1;}#sk-container-id-2 div.sk-parallel-item {display: flex;flex-direction: column;z-index: 1;position: relative;background-color: white;}#sk-container-id-2 div.sk-parallel-item:first-child::after {align-self: flex-end;width: 50%;}#sk-container-id-2 div.sk-parallel-item:last-child::after {align-self: flex-start;width: 50%;}#sk-container-id-2 div.sk-parallel-item:only-child::after {width: 0;}#sk-container-id-2 div.sk-dashed-wrapped {border: 1px dashed gray;margin: 0 0.4em 0.5em 0.4em;box-sizing: border-box;padding-bottom: 0.4em;background-color: white;}#sk-container-id-2 div.sk-label label {font-family: monospace;font-weight: bold;display: inline-block;line-height: 1.2em;}#sk-container-id-2 div.sk-label-container {text-align: center;}#sk-container-id-2 div.sk-container {/* jupyter's `normalize.less` sets `[hidden] { display: none; }` but bootstrap.min.css set `[hidden] { display: none !important; }` so we also need the `!important` here to be able to override the default hidden behavior on the sphinx rendered scikit-learn.org. See: https://github.com/scikit-learn/scikit-learn/issues/21755 */display: inline-block !important;position: relative;}#sk-container-id-2 div.sk-text-repr-fallback {display: none;}</style><div id=\"sk-container-id-2\" class=\"sk-top-container\"><div class=\"sk-text-repr-fallback\"><pre>MultinomialNB()</pre><b>In a Jupyter environment, please rerun this cell to show the HTML representation or trust the notebook. <br />On GitHub, the HTML representation is unable to render, please try loading this page with nbviewer.org.</b></div><div class=\"sk-container\" hidden><div class=\"sk-item\"><div class=\"sk-estimator sk-toggleable\"><input class=\"sk-toggleable__control sk-hidden--visually\" id=\"sk-estimator-id-2\" type=\"checkbox\" checked><label for=\"sk-estimator-id-2\" class=\"sk-toggleable__label sk-toggleable__label-arrow\">MultinomialNB</label><div class=\"sk-toggleable__content\"><pre>MultinomialNB()</pre></div></div></div></div></div>"
            ]
          },
          "metadata": {},
          "execution_count": 72
        }
      ]
    },
    {
      "cell_type": "code",
      "source": [
        "y_pred_1 = nb.predict(X_train_features)"
      ],
      "metadata": {
        "id": "5jZoqMb24P-y"
      },
      "execution_count": null,
      "outputs": []
    },
    {
      "cell_type": "code",
      "source": [
        "X_train_accuracy = accuracy_score(y_pred_1,Y_train)"
      ],
      "metadata": {
        "id": "A7bUKgGC45rm"
      },
      "execution_count": null,
      "outputs": []
    },
    {
      "cell_type": "code",
      "source": [
        "print(X_train_accuracy)"
      ],
      "metadata": {
        "id": "IbNqX7105Alg",
        "colab": {
          "base_uri": "https://localhost:8080/"
        },
        "outputId": "6a329edb-ac6e-41ac-bf24-bdab109b7116"
      },
      "execution_count": null,
      "outputs": [
        {
          "output_type": "stream",
          "name": "stdout",
          "text": [
            "0.507091719573146\n"
          ]
        }
      ]
    },
    {
      "cell_type": "code",
      "source": [
        "# Sentiment Analysis using Naive Bayes\n",
        "vectorizer = CountVectorizer()\n",
        "X_features = vectorizer.fit_transform(X_train)\n",
        "nb = MultinomialNB()\n",
        "parameters = {'alpha': [0.5, 1.0, 1.5]}\n",
        "nb_grid = GridSearchCV(nb, parameters)\n",
        "nb_grid.fit(X_features, Y_train)\n",
        "best_nb = nb_grid.best_estimator_"
      ],
      "metadata": {
        "id": "u5DQcZbF3ECz",
        "colab": {
          "base_uri": "https://localhost:8080/"
        },
        "outputId": "58207f66-077b-4d1f-e9f1-6df74a1f3f20"
      },
      "execution_count": null,
      "outputs": [
        {
          "output_type": "stream",
          "name": "stderr",
          "text": [
            "/usr/local/lib/python3.10/dist-packages/sklearn/model_selection/_split.py:700: UserWarning: The least populated class in y has only 1 members, which is less than n_splits=5.\n",
            "  warnings.warn(\n"
          ]
        }
      ]
    },
    {
      "cell_type": "code",
      "source": [
        "print(\"Best Naive Bayes hyperparameters:\", nb_grid.best_params_)"
      ],
      "metadata": {
        "id": "pMkj-C6d3ZwN",
        "colab": {
          "base_uri": "https://localhost:8080/"
        },
        "outputId": "450db96e-b73e-4e71-d3b6-68f4fe76dbcf"
      },
      "execution_count": null,
      "outputs": [
        {
          "output_type": "stream",
          "name": "stdout",
          "text": [
            "Best Naive Bayes hyperparameters: {'alpha': 0.5}\n"
          ]
        }
      ]
    },
    {
      "cell_type": "code",
      "source": [
        "y_pred = nb_grid.predict(X_features)"
      ],
      "metadata": {
        "id": "rvitRYj938Lb"
      },
      "execution_count": null,
      "outputs": []
    },
    {
      "cell_type": "code",
      "source": [
        "X_train_accuracy = accuracy_score(nb_grid.predict(X_features),Y_train)"
      ],
      "metadata": {
        "id": "ED20eL_d5RTX"
      },
      "execution_count": null,
      "outputs": []
    },
    {
      "cell_type": "code",
      "source": [
        "print(X_train_accuracy)"
      ],
      "metadata": {
        "id": "y05SNj7v5c3y",
        "colab": {
          "base_uri": "https://localhost:8080/"
        },
        "outputId": "c4b0f713-7c03-4df8-8f4b-ff42c371ed78"
      },
      "execution_count": null,
      "outputs": [
        {
          "output_type": "stream",
          "name": "stdout",
          "text": [
            "0.645278940969877\n"
          ]
        }
      ]
    },
    {
      "cell_type": "markdown",
      "source": [
        "DecisionTreeClassifier"
      ],
      "metadata": {
        "id": "HpGUm1QkYPuc"
      }
    },
    {
      "cell_type": "code",
      "source": [
        "from sklearn.tree import DecisionTreeClassifier\n",
        "from sklearn.metrics import accuracy_score\n",
        "Dec_clf = DecisionTreeClassifier()"
      ],
      "metadata": {
        "id": "eh9Y2iBJ5fgo"
      },
      "execution_count": null,
      "outputs": []
    },
    {
      "cell_type": "code",
      "source": [
        "Dec_clf.fit(X_features, Y_train)"
      ],
      "metadata": {
        "colab": {
          "base_uri": "https://localhost:8080/",
          "height": 75
        },
        "id": "k1YnwBx0YmKz",
        "outputId": "8709402b-31f9-4ad3-bb27-8a5d8bde90ac"
      },
      "execution_count": null,
      "outputs": [
        {
          "output_type": "execute_result",
          "data": {
            "text/plain": [
              "DecisionTreeClassifier()"
            ],
            "text/html": [
              "<style>#sk-container-id-3 {color: black;background-color: white;}#sk-container-id-3 pre{padding: 0;}#sk-container-id-3 div.sk-toggleable {background-color: white;}#sk-container-id-3 label.sk-toggleable__label {cursor: pointer;display: block;width: 100%;margin-bottom: 0;padding: 0.3em;box-sizing: border-box;text-align: center;}#sk-container-id-3 label.sk-toggleable__label-arrow:before {content: \"▸\";float: left;margin-right: 0.25em;color: #696969;}#sk-container-id-3 label.sk-toggleable__label-arrow:hover:before {color: black;}#sk-container-id-3 div.sk-estimator:hover label.sk-toggleable__label-arrow:before {color: black;}#sk-container-id-3 div.sk-toggleable__content {max-height: 0;max-width: 0;overflow: hidden;text-align: left;background-color: #f0f8ff;}#sk-container-id-3 div.sk-toggleable__content pre {margin: 0.2em;color: black;border-radius: 0.25em;background-color: #f0f8ff;}#sk-container-id-3 input.sk-toggleable__control:checked~div.sk-toggleable__content {max-height: 200px;max-width: 100%;overflow: auto;}#sk-container-id-3 input.sk-toggleable__control:checked~label.sk-toggleable__label-arrow:before {content: \"▾\";}#sk-container-id-3 div.sk-estimator input.sk-toggleable__control:checked~label.sk-toggleable__label {background-color: #d4ebff;}#sk-container-id-3 div.sk-label input.sk-toggleable__control:checked~label.sk-toggleable__label {background-color: #d4ebff;}#sk-container-id-3 input.sk-hidden--visually {border: 0;clip: rect(1px 1px 1px 1px);clip: rect(1px, 1px, 1px, 1px);height: 1px;margin: -1px;overflow: hidden;padding: 0;position: absolute;width: 1px;}#sk-container-id-3 div.sk-estimator {font-family: monospace;background-color: #f0f8ff;border: 1px dotted black;border-radius: 0.25em;box-sizing: border-box;margin-bottom: 0.5em;}#sk-container-id-3 div.sk-estimator:hover {background-color: #d4ebff;}#sk-container-id-3 div.sk-parallel-item::after {content: \"\";width: 100%;border-bottom: 1px solid gray;flex-grow: 1;}#sk-container-id-3 div.sk-label:hover label.sk-toggleable__label {background-color: #d4ebff;}#sk-container-id-3 div.sk-serial::before {content: \"\";position: absolute;border-left: 1px solid gray;box-sizing: border-box;top: 0;bottom: 0;left: 50%;z-index: 0;}#sk-container-id-3 div.sk-serial {display: flex;flex-direction: column;align-items: center;background-color: white;padding-right: 0.2em;padding-left: 0.2em;position: relative;}#sk-container-id-3 div.sk-item {position: relative;z-index: 1;}#sk-container-id-3 div.sk-parallel {display: flex;align-items: stretch;justify-content: center;background-color: white;position: relative;}#sk-container-id-3 div.sk-item::before, #sk-container-id-3 div.sk-parallel-item::before {content: \"\";position: absolute;border-left: 1px solid gray;box-sizing: border-box;top: 0;bottom: 0;left: 50%;z-index: -1;}#sk-container-id-3 div.sk-parallel-item {display: flex;flex-direction: column;z-index: 1;position: relative;background-color: white;}#sk-container-id-3 div.sk-parallel-item:first-child::after {align-self: flex-end;width: 50%;}#sk-container-id-3 div.sk-parallel-item:last-child::after {align-self: flex-start;width: 50%;}#sk-container-id-3 div.sk-parallel-item:only-child::after {width: 0;}#sk-container-id-3 div.sk-dashed-wrapped {border: 1px dashed gray;margin: 0 0.4em 0.5em 0.4em;box-sizing: border-box;padding-bottom: 0.4em;background-color: white;}#sk-container-id-3 div.sk-label label {font-family: monospace;font-weight: bold;display: inline-block;line-height: 1.2em;}#sk-container-id-3 div.sk-label-container {text-align: center;}#sk-container-id-3 div.sk-container {/* jupyter's `normalize.less` sets `[hidden] { display: none; }` but bootstrap.min.css set `[hidden] { display: none !important; }` so we also need the `!important` here to be able to override the default hidden behavior on the sphinx rendered scikit-learn.org. See: https://github.com/scikit-learn/scikit-learn/issues/21755 */display: inline-block !important;position: relative;}#sk-container-id-3 div.sk-text-repr-fallback {display: none;}</style><div id=\"sk-container-id-3\" class=\"sk-top-container\"><div class=\"sk-text-repr-fallback\"><pre>DecisionTreeClassifier()</pre><b>In a Jupyter environment, please rerun this cell to show the HTML representation or trust the notebook. <br />On GitHub, the HTML representation is unable to render, please try loading this page with nbviewer.org.</b></div><div class=\"sk-container\" hidden><div class=\"sk-item\"><div class=\"sk-estimator sk-toggleable\"><input class=\"sk-toggleable__control sk-hidden--visually\" id=\"sk-estimator-id-3\" type=\"checkbox\" checked><label for=\"sk-estimator-id-3\" class=\"sk-toggleable__label sk-toggleable__label-arrow\">DecisionTreeClassifier</label><div class=\"sk-toggleable__content\"><pre>DecisionTreeClassifier()</pre></div></div></div></div></div>"
            ]
          },
          "metadata": {},
          "execution_count": 82
        }
      ]
    },
    {
      "cell_type": "code",
      "source": [
        "Dec_clf.predict(X_features)"
      ],
      "metadata": {
        "colab": {
          "base_uri": "https://localhost:8080/"
        },
        "id": "NV45Z9emYtHO",
        "outputId": "c37b9994-f2ea-4834-c7ee-6695f39b50fe"
      },
      "execution_count": null,
      "outputs": [
        {
          "output_type": "execute_result",
          "data": {
            "text/plain": [
              "array([ 8,  6,  2, ...,  1, 19,  7])"
            ]
          },
          "metadata": {},
          "execution_count": 83
        }
      ]
    },
    {
      "cell_type": "code",
      "source": [
        "X_train_accuracy = accuracy_score(Dec_clf.predict(X_features),Y_train)"
      ],
      "metadata": {
        "id": "UPl8-PD7Yz5Z"
      },
      "execution_count": null,
      "outputs": []
    },
    {
      "cell_type": "code",
      "source": [
        "print(X_train_accuracy)"
      ],
      "metadata": {
        "colab": {
          "base_uri": "https://localhost:8080/"
        },
        "id": "qtMN7lxeY5SC",
        "outputId": "20b818c2-cf07-4b95-ec09-3b58b62ad3a2"
      },
      "execution_count": null,
      "outputs": [
        {
          "output_type": "stream",
          "name": "stdout",
          "text": [
            "0.8177765770633527\n"
          ]
        }
      ]
    },
    {
      "cell_type": "code",
      "source": [],
      "metadata": {
        "id": "zxzjXhpOY9fN"
      },
      "execution_count": null,
      "outputs": []
    }
  ],
  "metadata": {
    "colab": {
      "provenance": [],
      "include_colab_link": true
    },
    "kernelspec": {
      "display_name": "Python 3",
      "name": "python3"
    },
    "language_info": {
      "name": "python"
    }
  },
  "nbformat": 4,
  "nbformat_minor": 0
}